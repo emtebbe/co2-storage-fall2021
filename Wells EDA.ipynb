{
 "cells": [
  {
   "cell_type": "code",
   "execution_count": 1,
   "metadata": {},
   "outputs": [],
   "source": [
    "import os\n",
    "import time\n",
    "import numpy as np\n",
    "import pandas as pd"
   ]
  },
  {
   "cell_type": "code",
   "execution_count": 3,
   "metadata": {},
   "outputs": [],
   "source": [
    "wells = pd.read_csv(\"data/wells/AllWells_20210915.csv\")\n",
    "                          #r'Emissions by Unit and Fuel Type.xlsx',\n",
    "                          #sheet_name='UNIT_DATA', skiprows=4)"
   ]
  },
  {
   "cell_type": "code",
   "execution_count": 9,
   "metadata": {},
   "outputs": [
    {
     "data": {
      "text/html": [
       "<div>\n",
       "<style scoped>\n",
       "    .dataframe tbody tr th:only-of-type {\n",
       "        vertical-align: middle;\n",
       "    }\n",
       "\n",
       "    .dataframe tbody tr th {\n",
       "        vertical-align: top;\n",
       "    }\n",
       "\n",
       "    .dataframe thead th {\n",
       "        text-align: right;\n",
       "    }\n",
       "</style>\n",
       "<table border=\"1\" class=\"dataframe\">\n",
       "  <thead>\n",
       "    <tr style=\"text-align: right;\">\n",
       "      <th></th>\n",
       "      <th>OID</th>\n",
       "      <th>API</th>\n",
       "      <th>LeaseName</th>\n",
       "      <th>WellNumber</th>\n",
       "      <th>WellStatus</th>\n",
       "      <th>WellType</th>\n",
       "      <th>WellTypeLa</th>\n",
       "      <th>OperatorCo</th>\n",
       "      <th>OperatorNa</th>\n",
       "      <th>FieldName</th>\n",
       "      <th>...</th>\n",
       "      <th>Township</th>\n",
       "      <th>Range</th>\n",
       "      <th>BaseMeridi</th>\n",
       "      <th>Latitude</th>\n",
       "      <th>Longitude</th>\n",
       "      <th>GISSource</th>\n",
       "      <th>isConfiden</th>\n",
       "      <th>isDirectio</th>\n",
       "      <th>SpudDate</th>\n",
       "      <th>WellSymbol</th>\n",
       "    </tr>\n",
       "  </thead>\n",
       "  <tbody>\n",
       "    <tr>\n",
       "      <th>0</th>\n",
       "      <td>-1</td>\n",
       "      <td>402100018</td>\n",
       "      <td>Afton Community</td>\n",
       "      <td>2-3</td>\n",
       "      <td>Plugged</td>\n",
       "      <td>DH</td>\n",
       "      <td>Dry Hole</td>\n",
       "      <td>V1150</td>\n",
       "      <td>Venoco, LLC</td>\n",
       "      <td>Afton Gas</td>\n",
       "      <td>...</td>\n",
       "      <td>19N</td>\n",
       "      <td>01W</td>\n",
       "      <td>MD</td>\n",
       "      <td>39.459846</td>\n",
       "      <td>-121.945427</td>\n",
       "      <td>hud</td>\n",
       "      <td>N</td>\n",
       "      <td>N</td>\n",
       "      <td>06/09/1965</td>\n",
       "      <td>PluggedDH</td>\n",
       "    </tr>\n",
       "    <tr>\n",
       "      <th>1</th>\n",
       "      <td>-1</td>\n",
       "      <td>402100016</td>\n",
       "      <td>Afton Community 1</td>\n",
       "      <td>1</td>\n",
       "      <td>Plugged</td>\n",
       "      <td>DG</td>\n",
       "      <td>Dry Gas</td>\n",
       "      <td>V1150</td>\n",
       "      <td>Venoco, LLC</td>\n",
       "      <td>Afton Gas</td>\n",
       "      <td>...</td>\n",
       "      <td>19N</td>\n",
       "      <td>01W</td>\n",
       "      <td>MD</td>\n",
       "      <td>39.451515</td>\n",
       "      <td>-121.950668</td>\n",
       "      <td>hud</td>\n",
       "      <td>N</td>\n",
       "      <td>N</td>\n",
       "      <td>12/02/1943</td>\n",
       "      <td>PluggedDG</td>\n",
       "    </tr>\n",
       "    <tr>\n",
       "      <th>2</th>\n",
       "      <td>-1</td>\n",
       "      <td>402100014</td>\n",
       "      <td>Afton Community 1</td>\n",
       "      <td>2</td>\n",
       "      <td>Plugged</td>\n",
       "      <td>DH</td>\n",
       "      <td>Dry Hole</td>\n",
       "      <td>A4550</td>\n",
       "      <td>Arco Western Energy Co.</td>\n",
       "      <td>Afton Gas</td>\n",
       "      <td>...</td>\n",
       "      <td>18N</td>\n",
       "      <td>01W</td>\n",
       "      <td>MD</td>\n",
       "      <td>39.445755</td>\n",
       "      <td>-121.953369</td>\n",
       "      <td>hud</td>\n",
       "      <td>N</td>\n",
       "      <td>N</td>\n",
       "      <td>05/23/1948</td>\n",
       "      <td>PluggedDH</td>\n",
       "    </tr>\n",
       "    <tr>\n",
       "      <th>3</th>\n",
       "      <td>-1</td>\n",
       "      <td>402100013</td>\n",
       "      <td>Afton Community 1</td>\n",
       "      <td>3</td>\n",
       "      <td>Plugged</td>\n",
       "      <td>DH</td>\n",
       "      <td>Dry Hole</td>\n",
       "      <td>A4550</td>\n",
       "      <td>Arco Western Energy Co.</td>\n",
       "      <td>Afton Gas</td>\n",
       "      <td>...</td>\n",
       "      <td>18N</td>\n",
       "      <td>01W</td>\n",
       "      <td>MD</td>\n",
       "      <td>39.445736</td>\n",
       "      <td>-121.943954</td>\n",
       "      <td>hud</td>\n",
       "      <td>N</td>\n",
       "      <td>N</td>\n",
       "      <td>06/10/1948</td>\n",
       "      <td>PluggedDH</td>\n",
       "    </tr>\n",
       "    <tr>\n",
       "      <th>4</th>\n",
       "      <td>-1</td>\n",
       "      <td>402100017</td>\n",
       "      <td>Afton Community 2</td>\n",
       "      <td>1</td>\n",
       "      <td>Plugged</td>\n",
       "      <td>DG</td>\n",
       "      <td>Dry Gas</td>\n",
       "      <td>V1150</td>\n",
       "      <td>Venoco, LLC</td>\n",
       "      <td>Afton Gas</td>\n",
       "      <td>...</td>\n",
       "      <td>19N</td>\n",
       "      <td>01W</td>\n",
       "      <td>MD</td>\n",
       "      <td>39.460217</td>\n",
       "      <td>-121.953537</td>\n",
       "      <td>hud</td>\n",
       "      <td>N</td>\n",
       "      <td>N</td>\n",
       "      <td>04/14/1945</td>\n",
       "      <td>PluggedDG</td>\n",
       "    </tr>\n",
       "  </tbody>\n",
       "</table>\n",
       "<p>5 rows × 24 columns</p>\n",
       "</div>"
      ],
      "text/plain": [
       "   OID        API          LeaseName WellNumber WellStatus WellType  \\\n",
       "0   -1  402100018    Afton Community        2-3    Plugged       DH   \n",
       "1   -1  402100016  Afton Community 1          1    Plugged       DG   \n",
       "2   -1  402100014  Afton Community 1          2    Plugged       DH   \n",
       "3   -1  402100013  Afton Community 1          3    Plugged       DH   \n",
       "4   -1  402100017  Afton Community 2          1    Plugged       DG   \n",
       "\n",
       "  WellTypeLa OperatorCo               OperatorNa  FieldName  ... Township  \\\n",
       "0   Dry Hole      V1150              Venoco, LLC  Afton Gas  ...      19N   \n",
       "1    Dry Gas      V1150              Venoco, LLC  Afton Gas  ...      19N   \n",
       "2   Dry Hole      A4550  Arco Western Energy Co.  Afton Gas  ...      18N   \n",
       "3   Dry Hole      A4550  Arco Western Energy Co.  Afton Gas  ...      18N   \n",
       "4    Dry Gas      V1150              Venoco, LLC  Afton Gas  ...      19N   \n",
       "\n",
       "  Range BaseMeridi   Latitude   Longitude GISSource isConfiden  isDirectio  \\\n",
       "0   01W         MD  39.459846 -121.945427       hud          N           N   \n",
       "1   01W         MD  39.451515 -121.950668       hud          N           N   \n",
       "2   01W         MD  39.445755 -121.953369       hud          N           N   \n",
       "3   01W         MD  39.445736 -121.943954       hud          N           N   \n",
       "4   01W         MD  39.460217 -121.953537       hud          N           N   \n",
       "\n",
       "     SpudDate WellSymbol  \n",
       "0  06/09/1965  PluggedDH  \n",
       "1  12/02/1943  PluggedDG  \n",
       "2  05/23/1948  PluggedDH  \n",
       "3  06/10/1948  PluggedDH  \n",
       "4  04/14/1945  PluggedDG  \n",
       "\n",
       "[5 rows x 24 columns]"
      ]
     },
     "execution_count": 9,
     "metadata": {},
     "output_type": "execute_result"
    }
   ],
   "source": [
    "wells.head()"
   ]
  },
  {
   "cell_type": "code",
   "execution_count": 15,
   "metadata": {},
   "outputs": [
    {
     "name": "stdout",
     "output_type": "stream",
     "text": [
      "(240890, 24)\n"
     ]
    }
   ],
   "source": [
    "print(wells.shape)"
   ]
  },
  {
   "cell_type": "code",
   "execution_count": 16,
   "metadata": {},
   "outputs": [
    {
     "name": "stdout",
     "output_type": "stream",
     "text": [
      "['OID', 'API', 'LeaseName', 'WellNumber', 'WellStatus', 'WellType', 'WellTypeLa', 'OperatorCo', 'OperatorNa', 'FieldName', 'AreaName', 'District', 'CountyName', 'Section', 'Township', 'Range', 'BaseMeridi', 'Latitude', 'Longitude', 'GISSource', 'isConfiden', 'isDirectio', 'SpudDate', 'WellSymbol']\n"
     ]
    }
   ],
   "source": [
    "#basic information on columns\n",
    "print(list(wells.columns))\n"
   ]
  },
  {
   "cell_type": "code",
   "execution_count": 6,
   "metadata": {},
   "outputs": [
    {
     "name": "stdout",
     "output_type": "stream",
     "text": [
      "{'Idle', 'Canceled', 'Abeyance', 'Unknown', 'Active', 'Plugged', 'PluggedOnly', 'New'}\n"
     ]
    }
   ],
   "source": [
    "#unique statuses\n",
    "print(set(wells.WellStatus))"
   ]
  },
  {
   "cell_type": "code",
   "execution_count": 14,
   "metadata": {},
   "outputs": [
    {
     "name": "stdout",
     "output_type": "stream",
     "text": [
      "240890\n"
     ]
    }
   ],
   "source": [
    "#how many APIs\n",
    "print(len(set(wells.API))) #API is unique"
   ]
  },
  {
   "cell_type": "code",
   "execution_count": 18,
   "metadata": {},
   "outputs": [
    {
     "name": "stdout",
     "output_type": "stream",
     "text": [
      "{'Gas Disposal', 'Multi-Purpose', 'Observation', 'Water Source', 'Oil & Gas', 'Gas', 'Steamflood', 'Cyclic Steam', 'Injection', 'Waterflood', 'Core Hole', 'Gas Storage', 'Liquefied Gas', 'Dry Hole', 'Dry Gas', 'Unknown', 'Water Disposal', 'Air Injection', 'Pressure Maintenance'}\n"
     ]
    }
   ],
   "source": [
    "print(set(wells.WellTypeLa))"
   ]
  },
  {
   "cell_type": "code",
   "execution_count": 19,
   "metadata": {},
   "outputs": [
    {
     "data": {
      "text/plain": [
       "WellTypeLa\n",
       "Air Injection               91\n",
       "Core Hole                 1451\n",
       "Cyclic Steam             20619\n",
       "Dry Gas                   5003\n",
       "Dry Hole                 16743\n",
       "Gas                       1417\n",
       "Gas Disposal               115\n",
       "Gas Storage                450\n",
       "Injection                 1692\n",
       "Liquefied Gas                6\n",
       "Multi-Purpose             2903\n",
       "Observation               4872\n",
       "Oil & Gas               158064\n",
       "Pressure Maintenance       142\n",
       "Steamflood               12668\n",
       "Unknown                    939\n",
       "Water Disposal            2307\n",
       "Water Source               248\n",
       "Waterflood               11160\n",
       "dtype: int64"
      ]
     },
     "execution_count": 19,
     "metadata": {},
     "output_type": "execute_result"
    }
   ],
   "source": [
    "wells.groupby(['WellTypeLa']).size()"
   ]
  },
  {
   "cell_type": "code",
   "execution_count": null,
   "metadata": {},
   "outputs": [],
   "source": []
  }
 ],
 "metadata": {
  "kernelspec": {
   "display_name": "Python 3 (ipykernel)",
   "language": "python",
   "name": "python3"
  },
  "language_info": {
   "codemirror_mode": {
    "name": "ipython",
    "version": 3
   },
   "file_extension": ".py",
   "mimetype": "text/x-python",
   "name": "python",
   "nbconvert_exporter": "python",
   "pygments_lexer": "ipython3",
   "version": "3.7.3"
  }
 },
 "nbformat": 4,
 "nbformat_minor": 2
}
