{
 "cells": [
  {
   "cell_type": "markdown",
   "id": "9d807e99",
   "metadata": {},
   "source": [
    "# Optimizing for CO2 storage from CO2 Emitters"
   ]
  },
  {
   "cell_type": "markdown",
   "id": "20ba4a9f",
   "metadata": {},
   "source": [
    "## Setup"
   ]
  },
  {
   "cell_type": "code",
   "execution_count": 83,
   "id": "5455708a",
   "metadata": {},
   "outputs": [],
   "source": [
    "import numpy as np\n",
    "import pandas as pd\n",
    "from pulp import *\n",
    "from geopy.distance import distance\n",
    "from geopy.distance import great_circle\n",
    "import random\n",
    "import pickle"
   ]
  },
  {
   "cell_type": "code",
   "execution_count": 92,
   "id": "44165763",
   "metadata": {},
   "outputs": [],
   "source": [
    "def facility_cleaning(fac_df, emiss_df):\n",
    "    facilitiesB = fac_df.rename(inplace=False,\n",
    "                                    columns={'Facility Name':'facility_name',\n",
    "                                             'City':'city',\n",
    "                                             'Primary NAICS Code':'naics_code',\n",
    "                                             'Industry Type (subparts)':'industry_subparts',\n",
    "                                             'Industry Type (sectors)':'industry_sectors'})\n",
    "\n",
    "    emsCA2019loc = pd.merge(emiss_df, facilitiesB[['Facility Id',\n",
    "                                                    'facility_name',\n",
    "    #                                               'Facility Name2',\n",
    "                                                   'city',\n",
    "                                                   'Zip Code',\n",
    "                                                   'Address',\n",
    "                                                   'County',\n",
    "                                                   'Latitude',\n",
    "                                                   'Longitude',\n",
    "    #                                               'Primary NAICS Code2',\n",
    "                                                   'industry_subparts',\n",
    "                                                   'industry_sectors']],\n",
    "                            how='left', on='Facility Id')\n",
    "    emsCA2019locagg = emsCA2019loc[['Facility Id','facility_name','Latitude','Longitude',\n",
    "                                    'Unit CO2 emissions (non-biogenic)']].dropna().groupby(\n",
    "                                        ['Facility Id','facility_name']).agg({'Latitude':'min',\n",
    "                                                            'Longitude':'min',\n",
    "                                                            'Unit CO2 emissions (non-biogenic)':'sum'})\n",
    "    emsCA2019locagg.reset_index(inplace=True)\n",
    "    emsCA2019locagg = emsCA2019locagg.rename(columns={'Facility Id':'facility_id',\n",
    "                                                      'facility_name':'facility_name',\n",
    "                                                      'Latitude':'lat',\n",
    "                                                      'Longitude':'lon',\n",
    "                                                      'Unit CO2 emissions (non-biogenic)':'annual_emissions'})\n",
    "    emsCA2019locagg = emsCA2019locagg[emsCA2019locagg['annual_emissions'] > 0]\n",
    "    facility_latlon = emsCA2019locagg[['lat', 'lon']].to_records(index=False)\n",
    "    facility_ids = emsCA2019locagg['facility_id'].tolist()\n",
    "    facility_names = emsCA2019locagg['facility_name'].tolist()\n",
    "    supply = emsCA2019locagg['annual_emissions'].tolist()\n",
    "    return facility_latlon, facility_ids, facility_names, supply\n",
    "\n",
    "\n",
    "def get_distances(facility_latlon, pools_latlon):\n",
    "    pools_distance_matrix = []\n",
    "    for i in range(len(facility_latlon)):\n",
    "        distances = []\n",
    "        for j in range(len(pools_latlon)):\n",
    "            dist = great_circle(facility_latlon[i], pools_latlon[j]).miles\n",
    "            distances.append(dist)\n",
    "        pools_distance_matrix.append(distances)\n",
    "    return pools_distance_matrix\n",
    "\n",
    "\n",
    "def get_complex_costs(distance_matrix, pool_volumes):\n",
    "    complex_costs = []\n",
    "    for i in range(len(distance_matrix)):\n",
    "        new = []\n",
    "        for j in range(len(distance_matrix[i])):\n",
    "            # cost = 2 * ($2*miles)*(volume/25) + 2,000,000\n",
    "            # cost of truck = $2 per mile X2 for round trip\n",
    "            # number of trucks = volume / 25\n",
    "            # cost = cost of trunk * number of trucks + 2,000,000\n",
    "            cost = 4 * distance_matrix[i][j] * pool_volumes[j]/25 + 2000000\n",
    "            new.append(cost)\n",
    "        complex_costs.append(new)\n",
    "    return complex_costs\n",
    "\n",
    "\n",
    "def run_optimization(n_receivers, n_suppliers, supply, demand, costs, distances, facility_names, facility_latlon, pools_ids, pools_latlon, industry_str, year):\n",
    "    print(\"Running optimization for {} industry and {} year timeframe\".format(industry_str, year))\n",
    "    supply = [i*year for i in supply]\n",
    "    \n",
    "    p_prob = LpProblem('Unbalaced_Transportation_Problem', LpMinimize)\n",
    "    #costs = pools_distance_matrix_complexcost\n",
    "    routes = [(i, j) for i in range(n_suppliers) for j in range(n_receivers)]\n",
    "\n",
    "    x = LpVariable.dicts('X', routes, lowBound=0)\n",
    "    p_prob += lpSum([x[i, j] * costs[i][j] for i in range(n_suppliers) for j in range(n_receivers)])\n",
    "\n",
    "    for i in range(n_suppliers):\n",
    "        p_prob += lpSum([x[i, j] for j in range(n_receivers)]) == supply[i]\n",
    "\n",
    "    for j in range(n_receivers):\n",
    "        p_prob += lpSum([x[i, j] for i in range(n_suppliers)]) <= demand[j]\n",
    "\n",
    "    # Solving problem\n",
    "    p_prob.solve()\n",
    "    print(\"Problem successfully solved\")\n",
    "    \n",
    "    volumes_moved = [i.varValue for i in p_prob.variables()]\n",
    "    volume_matrix = []\n",
    "    k=0\n",
    "    while k < n_suppliers:\n",
    "        vols = []\n",
    "        for i in range(n_receivers):\n",
    "            j = i + k*n_receivers\n",
    "            vols.append(volumes_moved[j])\n",
    "        volume_matrix.append(vols)\n",
    "        k+=1\n",
    "    print(\"Volume matrix created\")\n",
    "        \n",
    "    results = []\n",
    "    for i in range(n_suppliers):\n",
    "        f_name = facility_names[i]\n",
    "        f_loc = facility_latlon[i]\n",
    "        for j in range(n_receivers):\n",
    "            vol = volume_matrix[i][j]\n",
    "            if vol > 0:\n",
    "                w_id = pools_ids[j]\n",
    "                w_loc = pools_latlon[j]\n",
    "                dist = distances[i][j]\n",
    "                cost = costs[i][j]\n",
    "                cpt = cost/vol\n",
    "                r = [f_name, f_loc, w_id, w_loc, dist, cost, vol, cpt, industry_str, year]\n",
    "                results.append(r)\n",
    "    results_df = pd.DataFrame(results, columns = ['facility_name', 'facility_location','pool_id','pool_location','distance','cost','volume', 'cost_per_ton', 'industry', 'timeframe'])\n",
    "    print(\"Results created\")\n",
    "    print()\n",
    "    print(\"--------------------------------------------\")\n",
    "    \n",
    "    return results_df\n"
   ]
  },
  {
   "cell_type": "markdown",
   "id": "ddef2833",
   "metadata": {},
   "source": [
    "## Data import and cleaning"
   ]
  },
  {
   "cell_type": "code",
   "execution_count": 85,
   "id": "657f9d70",
   "metadata": {},
   "outputs": [
    {
     "name": "stderr",
     "output_type": "stream",
     "text": [
      "/Users/emmatebbe/anaconda3/lib/python3.8/site-packages/IPython/core/interactiveshell.py:3165: DtypeWarning: Columns (1) have mixed types.Specify dtype option on import or set low_memory=False.\n",
      "  has_raised = await self.run_ast_nodes(code_ast.body, cell_name,\n"
     ]
    }
   ],
   "source": [
    "wells = pd.read_csv(\"data/wells/AllWells_20210915.csv\")\n",
    "\n",
    "# Oil & Gas, Dry Gas (no liquids), Gas and \"Liquefied Gas\"\n",
    "wells_oilgas = wells[ (wells['WellType'] == 'OG')  |\n",
    "                      (wells['WellType'] == 'DG')  |\n",
    "                      (wells['WellType'] == 'GAS') |\n",
    "                      (wells['WellType'] == 'LG') ]\n",
    "wells_latlon = wells_oilgas[['Latitude', 'Longitude']].to_records(index=False)\n",
    "wells_ids = wells_oilgas['API'].tolist()\n",
    "pooled_wells = pd.read_csv(\"data/wells/pool_volumes.csv\")\n",
    "pools_latlon = pooled_wells[['Latitude', 'Longitude']].to_records(index=False)\n",
    "pools_ids = pooled_wells['poolID'].tolist()\n",
    "pools_volumes = pooled_wells['totalco2'].tolist()\n",
    "n_pools = len(pools_ids)"
   ]
  },
  {
   "cell_type": "code",
   "execution_count": 86,
   "id": "3a8f2933",
   "metadata": {},
   "outputs": [],
   "source": [
    "emissions = pd.read_csv(r'./data/Emissions by Unit and Fuel Type - csv/UNIT_DATA-Table 1.csv')\n",
    "emsCA2019 = emissions[emissions['Reporting Year'] == 2019]\n",
    "facilities = pd.read_excel(r'./data/ghgp_data_2019.xlsx',\n",
    "                          sheet_name='Direct Emitters', skiprows=3)\n",
    "# One Michegan emitter lists its CA headquarters. Retag it as Michigan\n",
    "facilities.loc[facilities['Facility Id'] == 1000594, 'State'] = 'MI'"
   ]
  },
  {
   "cell_type": "markdown",
   "id": "358cc05e",
   "metadata": {},
   "source": [
    "## Prepare data for optimization"
   ]
  },
  {
   "cell_type": "code",
   "execution_count": 87,
   "id": "6178ab40",
   "metadata": {},
   "outputs": [],
   "source": [
    "facilities = facilities[(facilities.State == 'CA')]\n",
    "facilities_cement = facilities[facilities['Cement Production'] > 0]\n",
    "facilities_oil = facilities[facilities['Petroleum Refining'] > 0]\n",
    "facilities_energy = facilities[facilities['Electricity Generation'] > 0]\n",
    "facilities_steel = facilities[facilities['Iron and Steel Production'] > 0]\n",
    "\n",
    "facility_latlon, facility_ids, facility_names, supply = facility_cleaning(facilities, emsCA2019)\n",
    "n_facilities = len(facility_ids)\n",
    "\n",
    "facility_c_latlon, facility_c_ids, facility_c_names, supply_c = facility_cleaning(facilities_cement, emsCA2019)\n",
    "n_facilities_c = len(facility_c_ids)\n",
    "\n",
    "facility_o_latlon, facility_o_ids, facility_o_names, supply_o = facility_cleaning(facilities_oil, emsCA2019)\n",
    "n_facilities_o = len(facility_o_ids)\n",
    "\n",
    "facility_e_latlon, facility_e_ids, facility_e_names, supply_e = facility_cleaning(facilities_energy, emsCA2019)\n",
    "n_facilities_e = len(facility_e_ids)\n",
    "\n",
    "facility_s_latlon, facility_s_ids, facility_s_names, supply_s = facility_cleaning(facilities_steel, emsCA2019)\n",
    "n_facilities_s = len(facility_s_ids)"
   ]
  },
  {
   "cell_type": "code",
   "execution_count": 93,
   "id": "778d872c",
   "metadata": {},
   "outputs": [],
   "source": [
    "distances_c = get_distances(facility_c_latlon, pools_latlon)\n",
    "complex_costs_c = get_complex_costs(distances_c, pools_volumes)\n",
    "\n",
    "distances_o = get_distances(facility_o_latlon, pools_latlon)\n",
    "complex_costs_o = get_complex_costs(distances_o, pools_volumes)\n",
    "\n",
    "distances_e = get_distances(facility_e_latlon, pools_latlon)\n",
    "complex_costs_e = get_complex_costs(distances_e, pools_volumes)\n",
    "\n",
    "distances_s = get_distances(facility_s_latlon, pools_latlon)\n",
    "complex_costs_s = get_complex_costs(distances_s, pools_volumes)"
   ]
  },
  {
   "cell_type": "code",
   "execution_count": 94,
   "id": "4fd4093c",
   "metadata": {},
   "outputs": [],
   "source": [
    "industry_list = ['cement', 'oil_refining', 'steel', 'energy']\n",
    "year_list = [1, 10]\n",
    "\n",
    "inputs_list = []\n",
    "for i in year_list:\n",
    "    cement = [n_facilities_c, supply_c, complex_costs_c, distances_c, facility_c_names, facility_c_latlon, 'cement', i]\n",
    "    oil = [n_facilities_o, supply_o, complex_costs_o, distances_o, facility_o_names, facility_o_latlon, 'oil_refining', i]\n",
    "    energy = [n_facilities_e, supply_e, complex_costs_e, distances_e, facility_e_names, facility_e_latlon, 'energy', i]\n",
    "    steel = [n_facilities_s, supply_s, complex_costs_s, distances_s, facility_s_names, facility_s_latlon, 'steel', i]\n",
    "    inputs_list.append(cement)\n",
    "    inputs_list.append(oil)\n",
    "    inputs_list.append(steel)\n",
    "    inputs_list.append(energy)\n",
    "\n",
    "    "
   ]
  },
  {
   "cell_type": "markdown",
   "id": "6847cf1e",
   "metadata": {},
   "source": [
    "## Run optimization and write results"
   ]
  },
  {
   "cell_type": "code",
   "execution_count": null,
   "id": "fcb0c823",
   "metadata": {},
   "outputs": [
    {
     "name": "stdout",
     "output_type": "stream",
     "text": [
      "Running optimization for cement industry and 1 year timeframe\n",
      "Problem successfully solved\n",
      "Volume matrix created\n",
      "Results created\n",
      "\n",
      "--------------------------------------------\n",
      "Running optimization for oil_refining industry and 1 year timeframe\n",
      "Problem successfully solved\n",
      "Volume matrix created\n",
      "Results created\n",
      "\n",
      "--------------------------------------------\n",
      "Running optimization for steel industry and 1 year timeframe\n",
      "Problem successfully solved\n",
      "Volume matrix created\n",
      "Results created\n",
      "\n",
      "--------------------------------------------\n",
      "Running optimization for energy industry and 1 year timeframe\n",
      "Problem successfully solved\n",
      "Volume matrix created\n",
      "Results created\n",
      "\n",
      "--------------------------------------------\n",
      "Running optimization for cement industry and 10 year timeframe\n",
      "Problem successfully solved\n",
      "Volume matrix created\n",
      "Results created\n",
      "\n",
      "--------------------------------------------\n",
      "Running optimization for oil_refining industry and 10 year timeframe\n",
      "Problem successfully solved\n",
      "Volume matrix created\n",
      "Results created\n",
      "\n",
      "--------------------------------------------\n",
      "Running optimization for steel industry and 10 year timeframe\n",
      "Problem successfully solved\n",
      "Volume matrix created\n",
      "Results created\n",
      "\n",
      "--------------------------------------------\n",
      "Running optimization for energy industry and 10 year timeframe\n"
     ]
    }
   ],
   "source": [
    "detailed_results = pd.DataFrame()\n",
    "\n",
    "for i in inputs_list:\n",
    "    results = run_optimization(n_pools,\n",
    "                               i[0],\n",
    "                               i[1],\n",
    "                               pools_volumes,\n",
    "                               i[2],\n",
    "                               i[3],\n",
    "                               i[4],\n",
    "                               i[5],\n",
    "                               pools_ids,\n",
    "                               pools_latlon,\n",
    "                               i[6],\n",
    "                               i[7])\n",
    "    detailed_results = detailed_results.append(results)\n",
    "    "
   ]
  },
  {
   "cell_type": "code",
   "execution_count": null,
   "id": "f58a6b4e",
   "metadata": {},
   "outputs": [],
   "source": [
    "list_results = detailed_results.values.tolist()\n",
    "file_name = 'data/results/full_detailed_results.pkl'\n",
    "open_file = open(file_name, \"wb\")\n",
    "pickle.dump(list_results, open_file)\n",
    "open_file.close()\n",
    "\n",
    "html_results = detailed_results.to_html()\n",
    "html_file = open(\"data/results/full_detailed_results.html\", \"w\")\n",
    "html_file.write(html_results)\n",
    "html_file.close()"
   ]
  },
  {
   "cell_type": "code",
   "execution_count": null,
   "id": "5e95a244",
   "metadata": {},
   "outputs": [],
   "source": [
    "summary_results = detailed_results.groupby(by=['industry','timeframe']).agg(\n",
    "    volume_transferred=('volume', 'sum'),\n",
    "    total_cost=('cost', 'sum'),\n",
    "    total_distance=('distance', 'sum')  \n",
    ")\n",
    "summary_results['cost_per_ton'] = summary_results['total_cost']/summary_results['volume_transferred']\n"
   ]
  },
  {
   "cell_type": "code",
   "execution_count": null,
   "id": "f8d247a6",
   "metadata": {},
   "outputs": [],
   "source": [
    "total_pool_volume = sum(pools_volumes)\n",
    "\n",
    "summary_results['percent_pool_volume_used'] = summary_results['volume_transferred'] / total_pool_volume\n",
    "summary_results"
   ]
  },
  {
   "cell_type": "code",
   "execution_count": null,
   "id": "2d9ba149",
   "metadata": {},
   "outputs": [],
   "source": [
    "list_summary_results = summary_results.values.tolist()\n",
    "file_name = 'data/results/summary_results.pkl'\n",
    "open_file = open(file_name, \"wb\")\n",
    "pickle.dump(list_summary_results, open_file)\n",
    "open_file.close()\n",
    "\n",
    "html_summary_results = detailed_results.to_html()\n",
    "html_file = open(\"data/results/summary_results.html\", \"w\")\n",
    "html_file.write(html_summary_results)\n",
    "html_file.close()"
   ]
  },
  {
   "cell_type": "code",
   "execution_count": null,
   "id": "da01ab77",
   "metadata": {},
   "outputs": [],
   "source": []
  }
 ],
 "metadata": {
  "kernelspec": {
   "display_name": "Python 3",
   "language": "python",
   "name": "python3"
  },
  "language_info": {
   "codemirror_mode": {
    "name": "ipython",
    "version": 3
   },
   "file_extension": ".py",
   "mimetype": "text/x-python",
   "name": "python",
   "nbconvert_exporter": "python",
   "pygments_lexer": "ipython3",
   "version": "3.8.8"
  }
 },
 "nbformat": 4,
 "nbformat_minor": 5
}
