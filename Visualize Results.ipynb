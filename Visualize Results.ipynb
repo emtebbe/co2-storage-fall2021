{
 "cells": [
  {
   "cell_type": "code",
   "execution_count": 70,
   "id": "f1f08df9",
   "metadata": {},
   "outputs": [],
   "source": [
    "import numpy as np\n",
    "import pandas as pd\n",
    "import random\n",
    "import pickle\n",
    "import itertools"
   ]
  },
  {
   "cell_type": "code",
   "execution_count": 6,
   "id": "7af0f269",
   "metadata": {},
   "outputs": [],
   "source": [
    "## USE THIS CODE TO IMPORT DATA\n",
    "\n",
    "file_name = 'data/results/results_toydata.pkl'\n",
    "open_file = open(file_name, \"rb\")\n",
    "loaded_list = pickle.load(open_file)\n",
    "open_file.close()"
   ]
  },
  {
   "cell_type": "code",
   "execution_count": 89,
   "id": "5345f04b",
   "metadata": {},
   "outputs": [
    {
     "data": {
      "text/plain": [
       "[[(36.92375, -120.10412),\n",
       "  (36.23867035, -120.38221741),\n",
       "  49.70567148469709,\n",
       "  363.79758],\n",
       " [(36.92375, -120.10412),\n",
       "  (36.24571609, -120.33669281),\n",
       "  48.508587563657905,\n",
       "  955.40343],\n",
       " [(36.92375, -120.10412),\n",
       "  (36.25873947, -120.32772064),\n",
       "  47.51045700832812,\n",
       "  818.13738],\n",
       " [(36.92375, -120.10412),\n",
       "  (36.224933, -120.303681),\n",
       "  49.447437294482434,\n",
       "  240.09383],\n",
       " [(36.92375, -120.10412),\n",
       "  (36.255945, -120.34494),\n",
       "  47.95499897549916,\n",
       "  158.00688]]"
      ]
     },
     "execution_count": 89,
     "metadata": {},
     "output_type": "execute_result"
    }
   ],
   "source": [
    "##[(supplier_lat, supplier_lon), (receiver_lat, receiver_lon), distance, volume_transferred]\n",
    "loaded_list[0:5"
   ]
  },
  {
   "cell_type": "code",
   "execution_count": 90,
   "id": "18d8cf3f",
   "metadata": {},
   "outputs": [
    {
     "data": {
      "text/plain": [
       "[[(36.92375, -120.10412),\n",
       "  (36.23867035, -120.38221741),\n",
       "  49.70567148469709,\n",
       "  363.79758],\n",
       " [(36.92375, -120.10412),\n",
       "  (36.24571609, -120.33669281),\n",
       "  48.508587563657905,\n",
       "  955.40343],\n",
       " [(36.92375, -120.10412),\n",
       "  (36.25873947, -120.32772064),\n",
       "  47.51045700832812,\n",
       "  818.13738],\n",
       " [(36.92375, -120.10412),\n",
       "  (36.224933, -120.303681),\n",
       "  49.447437294482434,\n",
       "  240.09383],\n",
       " [(36.92375, -120.10412),\n",
       "  (36.255945, -120.34494),\n",
       "  47.95499897549916,\n",
       "  158.00688]]"
      ]
     },
     "execution_count": 90,
     "metadata": {},
     "output_type": "execute_result"
    }
   ],
   "source": [
    "small_list = loaded_list[0:5]\n",
    "small_list"
   ]
  },
  {
   "cell_type": "code",
   "execution_count": 77,
   "id": "47b0f120",
   "metadata": {},
   "outputs": [],
   "source": [
    "#merged = list(itertools.chain(*small_list))\n",
    "#merged"
   ]
  },
  {
   "cell_type": "code",
   "execution_count": 62,
   "id": "02de0fab",
   "metadata": {},
   "outputs": [
    {
     "data": {
      "text/plain": [
       "\"'36.92375', '-120.10412', '36.23867035', '-120.38221741', '49.70567148469709', '363.79758'\""
      ]
     },
     "execution_count": 62,
     "metadata": {},
     "output_type": "execute_result"
    }
   ],
   "source": [
    "#un-combine the lat and lon since they are causing headaches\n",
    "# small_list = loaded_list[0:1000]\n",
    "\n",
    "# flat_small_list = [str(item).split(', ') for item in small_list]\n",
    "# flat_small_list = [str(item).split(', ') for item in small_list]\n",
    "# flat_small_list = [str(item).replace('(','') for item in flat_small_list]\n",
    "# flat_small_list = [str(item).replace(')','') for item in flat_small_list]\n",
    "# flat_small_list = [str(item).replace('[','') for item in flat_small_list]\n",
    "# flat_small_list = [str(item).replace(']','') for item in flat_small_list]\n",
    "\n",
    "# flat_small_list[0:5][0]"
   ]
  },
  {
   "cell_type": "code",
   "execution_count": 64,
   "id": "78ada9e2",
   "metadata": {},
   "outputs": [
    {
     "data": {
      "text/html": [
       "<div>\n",
       "<style scoped>\n",
       "    .dataframe tbody tr th:only-of-type {\n",
       "        vertical-align: middle;\n",
       "    }\n",
       "\n",
       "    .dataframe tbody tr th {\n",
       "        vertical-align: top;\n",
       "    }\n",
       "\n",
       "    .dataframe thead th {\n",
       "        text-align: right;\n",
       "    }\n",
       "</style>\n",
       "<table border=\"1\" class=\"dataframe\">\n",
       "  <thead>\n",
       "    <tr style=\"text-align: right;\">\n",
       "      <th></th>\n",
       "      <th>supplier</th>\n",
       "      <th>receiver</th>\n",
       "      <th>distance</th>\n",
       "      <th>volume</th>\n",
       "    </tr>\n",
       "  </thead>\n",
       "  <tbody>\n",
       "    <tr>\n",
       "      <th>0</th>\n",
       "      <td>[36.92375, -120.10412]</td>\n",
       "      <td>[36.23867035, -120.38221741]</td>\n",
       "      <td>49.705671</td>\n",
       "      <td>363.79758</td>\n",
       "    </tr>\n",
       "    <tr>\n",
       "      <th>1</th>\n",
       "      <td>[36.92375, -120.10412]</td>\n",
       "      <td>[36.24571609, -120.33669281]</td>\n",
       "      <td>48.508588</td>\n",
       "      <td>955.40343</td>\n",
       "    </tr>\n",
       "    <tr>\n",
       "      <th>2</th>\n",
       "      <td>[36.92375, -120.10412]</td>\n",
       "      <td>[36.25873947, -120.32772064]</td>\n",
       "      <td>47.510457</td>\n",
       "      <td>818.13738</td>\n",
       "    </tr>\n",
       "    <tr>\n",
       "      <th>3</th>\n",
       "      <td>[36.92375, -120.10412]</td>\n",
       "      <td>[36.224933, -120.303681]</td>\n",
       "      <td>49.447437</td>\n",
       "      <td>240.09383</td>\n",
       "    </tr>\n",
       "    <tr>\n",
       "      <th>4</th>\n",
       "      <td>[36.92375, -120.10412]</td>\n",
       "      <td>[36.255945, -120.34494]</td>\n",
       "      <td>47.954999</td>\n",
       "      <td>158.00688</td>\n",
       "    </tr>\n",
       "  </tbody>\n",
       "</table>\n",
       "</div>"
      ],
      "text/plain": [
       "                 supplier                      receiver   distance     volume\n",
       "0  [36.92375, -120.10412]  [36.23867035, -120.38221741]  49.705671  363.79758\n",
       "1  [36.92375, -120.10412]  [36.24571609, -120.33669281]  48.508588  955.40343\n",
       "2  [36.92375, -120.10412]  [36.25873947, -120.32772064]  47.510457  818.13738\n",
       "3  [36.92375, -120.10412]      [36.224933, -120.303681]  49.447437  240.09383\n",
       "4  [36.92375, -120.10412]       [36.255945, -120.34494]  47.954999  158.00688"
      ]
     },
     "execution_count": 64,
     "metadata": {},
     "output_type": "execute_result"
    }
   ],
   "source": [
    "df = pd.DataFrame(loaded_list, columns = ['supplier', 'receiver', 'distance', 'volume'])\n",
    "df.head()"
   ]
  },
  {
   "cell_type": "code",
   "execution_count": 92,
   "id": "542dd5f7",
   "metadata": {},
   "outputs": [
    {
     "data": {
      "text/plain": [
       "numpy.record"
      ]
     },
     "execution_count": 92,
     "metadata": {},
     "output_type": "execute_result"
    }
   ],
   "source": [
    "supplier_split = df.supplier.to_list()\n",
    "supplier_split[0:5]"
   ]
  },
  {
   "cell_type": "code",
   "execution_count": 91,
   "id": "000d0b32",
   "metadata": {},
   "outputs": [
    {
     "data": {
      "text/plain": [
       "36.23867035"
      ]
     },
     "execution_count": 91,
     "metadata": {},
     "output_type": "execute_result"
    }
   ],
   "source": [
    "receiver_split = df.receiver.to_list()\n",
    "receiver_split[0:5][0][0]"
   ]
  },
  {
   "cell_type": "code",
   "execution_count": 97,
   "id": "65c214df",
   "metadata": {},
   "outputs": [
    {
     "ename": "AttributeError",
     "evalue": "'list' object has no attribute 'replace'",
     "output_type": "error",
     "traceback": [
      "\u001b[0;31m---------------------------------------------------------------------------\u001b[0m",
      "\u001b[0;31mAttributeError\u001b[0m                            Traceback (most recent call last)",
      "\u001b[0;32m/var/folders/kq/z2_1hmj17078cxytypy4lwbc0000gn/T/ipykernel_7831/4113718049.py\u001b[0m in \u001b[0;36m<module>\u001b[0;34m\u001b[0m\n\u001b[1;32m      1\u001b[0m \u001b[0msplit_1_record\u001b[0m \u001b[0;34m=\u001b[0m \u001b[0mstr\u001b[0m\u001b[0;34m(\u001b[0m\u001b[0mreceiver_split\u001b[0m\u001b[0;34m[\u001b[0m\u001b[0;36m0\u001b[0m\u001b[0;34m]\u001b[0m\u001b[0;34m)\u001b[0m\u001b[0;34m.\u001b[0m\u001b[0msplit\u001b[0m\u001b[0;34m(\u001b[0m\u001b[0;34m','\u001b[0m \u001b[0;34m)\u001b[0m\u001b[0;34m\u001b[0m\u001b[0;34m\u001b[0m\u001b[0m\n\u001b[0;32m----> 2\u001b[0;31m \u001b[0msplit_1_record\u001b[0m \u001b[0;34m=\u001b[0m \u001b[0msplit_1_record\u001b[0m\u001b[0;34m.\u001b[0m\u001b[0mreplace\u001b[0m\u001b[0;34m(\u001b[0m\u001b[0;34m'('\u001b[0m\u001b[0;34m,\u001b[0m\u001b[0;34m)\u001b[0m\u001b[0;34m\u001b[0m\u001b[0;34m\u001b[0m\u001b[0m\n\u001b[0m\u001b[1;32m      3\u001b[0m \u001b[0msplit_1_record\u001b[0m \u001b[0;34m=\u001b[0m \u001b[0msplit_1_record\u001b[0m\u001b[0;34m.\u001b[0m\u001b[0mreplace\u001b[0m\u001b[0;34m(\u001b[0m\u001b[0;34m')'\u001b[0m\u001b[0;34m,\u001b[0m\u001b[0;34m)\u001b[0m\u001b[0;34m\u001b[0m\u001b[0;34m\u001b[0m\u001b[0m\n\u001b[1;32m      4\u001b[0m \u001b[0msplit_1_record\u001b[0m\u001b[0;34m\u001b[0m\u001b[0;34m\u001b[0m\u001b[0m\n",
      "\u001b[0;31mAttributeError\u001b[0m: 'list' object has no attribute 'replace'"
     ]
    }
   ],
   "source": []
  },
  {
   "cell_type": "code",
   "execution_count": 35,
   "id": "aff47eba",
   "metadata": {},
   "outputs": [
    {
     "name": "stderr",
     "output_type": "stream",
     "text": [
      "/Users/ashleymoss/anaconda3/lib/python3.7/site-packages/pandas/core/computation/expressions.py:69: FutureWarning: elementwise comparison failed; returning scalar instead, but in the future will perform elementwise comparison\n",
      "  return op(a, b)\n",
      "/Users/ashleymoss/anaconda3/lib/python3.7/site-packages/pandas/core/computation/expressions.py:69: FutureWarning: elementwise == comparison failed and returning scalar instead; this will raise an error or perform elementwise comparison in the future.\n",
      "  return op(a, b)\n"
     ]
    },
    {
     "data": {
      "text/html": [
       "<div>\n",
       "<style scoped>\n",
       "    .dataframe tbody tr th:only-of-type {\n",
       "        vertical-align: middle;\n",
       "    }\n",
       "\n",
       "    .dataframe tbody tr th {\n",
       "        vertical-align: top;\n",
       "    }\n",
       "\n",
       "    .dataframe thead th {\n",
       "        text-align: right;\n",
       "    }\n",
       "</style>\n",
       "<table border=\"1\" class=\"dataframe\">\n",
       "  <thead>\n",
       "    <tr style=\"text-align: right;\">\n",
       "      <th></th>\n",
       "      <th>supplier</th>\n",
       "      <th>receiver</th>\n",
       "      <th>distance</th>\n",
       "      <th>volume</th>\n",
       "    </tr>\n",
       "  </thead>\n",
       "  <tbody>\n",
       "  </tbody>\n",
       "</table>\n",
       "</div>"
      ],
      "text/plain": [
       "Empty DataFrame\n",
       "Columns: [supplier, receiver, distance, volume]\n",
       "Index: []"
      ]
     },
     "execution_count": 35,
     "metadata": {},
     "output_type": "execute_result"
    }
   ],
   "source": []
  },
  {
   "cell_type": "code",
   "execution_count": null,
   "id": "02ee5f67",
   "metadata": {},
   "outputs": [],
   "source": [
    "latlon = records[0:1000] #[ (51.249443914705175, -0.13878830247011467), (51.249443914705175, -0.13878830247011467), (51.249768239976866, -2.8610415615063034)]\n",
    "mapit = folium.Map( location=[39.4598465 , -121.94542694], zoom_start=6 )\n",
    "for coord in latlon:\n",
    "    folium.Marker( location=[ coord[0], coord[1] ], fill_color='#43d9de', radius=8 ).add_to( mapit )\n",
    "    \n",
    "mapit"
   ]
  }
 ],
 "metadata": {
  "kernelspec": {
   "display_name": "Python 3 (ipykernel)",
   "language": "python",
   "name": "python3"
  },
  "language_info": {
   "codemirror_mode": {
    "name": "ipython",
    "version": 3
   },
   "file_extension": ".py",
   "mimetype": "text/x-python",
   "name": "python",
   "nbconvert_exporter": "python",
   "pygments_lexer": "ipython3",
   "version": "3.7.3"
  }
 },
 "nbformat": 4,
 "nbformat_minor": 5
}
