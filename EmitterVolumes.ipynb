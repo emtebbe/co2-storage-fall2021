{
 "cells": [
  {
   "cell_type": "code",
   "execution_count": 2,
   "metadata": {},
   "outputs": [
    {
     "name": "stdout",
     "output_type": "stream",
     "text": [
      "['Facility Id', 'FRS Id', 'Facility Name', 'City', 'State', 'Zip Code', 'Address', 'County', 'Latitude', 'Longitude', 'Primary NAICS Code', 'Industry Type (subparts)', 'Industry Type (sectors)', 'Total reported direct emissions', 'CO2 emissions (non-biogenic) ', 'Methane (CH4) emissions ', 'Nitrous Oxide (N2O) emissions ', 'HFC emissions', 'PFC emissions', 'SF6 emissions ', 'NF3 emissions', 'Other Fully Fluorinated GHG emissions', 'HFE emissions', 'Very Short-lived Compounds emissions', 'Other GHGs (metric tons CO2e)', 'Biogenic CO2 emissions (metric tons)', 'Stationary Combustion', 'Electricity Generation', 'Adipic Acid Production', 'Aluminum Production', 'Ammonia Manufacturing', 'Cement Production', 'Electronics Manufacture', 'Ferroalloy Production', 'Fluorinated GHG Production', 'Glass Production', 'HCFC–22 Production from HFC–23 Destruction', 'Hydrogen Production', 'Iron and Steel Production', 'Lead Production', 'Lime Production', 'Magnesium Production', 'Miscellaneous Use of Carbonates', 'Nitric Acid Production', 'Petroleum and Natural Gas Systems – Offshore Production', 'Petroleum and Natural Gas Systems – Processing', 'Petroleum and Natural Gas Systems – Transmission/Compression', 'Petroleum and Natural Gas Systems – Underground Storage', 'Petroleum and Natural Gas Systems – LNG Storage', 'Petroleum and Natural Gas Systems – LNG Import/Export', 'Petrochemical Production', 'Petroleum Refining', 'Phosphoric Acid Production', 'Pulp and Paper Manufacturing', 'Silicon Carbide Production', 'Soda Ash Manufacturing', 'Titanium Dioxide Production', 'Underground Coal Mines', 'Zinc Production', 'Municipal Landfills', 'Industrial Wastewater Treatment', 'Manufacture of Electric Transmission and Distribution Equipment', 'Industrial Waste Landfills', 'Is some CO2 collected on-site and used to manufacture other products and therefore not emitted from the affected manufacturing process unit(s)? (as reported under Subpart G or S)', 'Is some CO2 reported as emissions from the affected manufacturing process unit(s) under Subpart AA, G or P collected and transferred off-site or injected (as reported under Subpart PP)?', 'Does the facility employ continuous emissions monitoring? ']\n",
      "(6512, 66)\n",
      "(383, 66)\n"
     ]
    }
   ],
   "source": [
    "import os\n",
    "import time\n",
    "import numpy as np\n",
    "import pandas as pd\n",
    "DATADIR = 'D:/W210_Capstone/co2-storage-fall2021/data/'\n",
    "os.chdir(DATADIR)\n",
    "facilities = pd.read_excel(r'./ghgp_data_2019.xlsx',\n",
    "                          sheet_name='Direct Emitters', skiprows=3)\n",
    "\n",
    "print(list(facilities.columns))\n",
    "print(facilities.shape)\n",
    "facilities = facilities[facilities.State == 'CA']\n",
    "print(facilities.shape)"
   ]
  },
  {
   "cell_type": "code",
   "execution_count": 4,
   "metadata": {},
   "outputs": [
    {
     "name": "stdout",
     "output_type": "stream",
     "text": [
      "['Facility Id', 'FRS Id', 'Facility Name', 'City', 'State', 'Primary NAICS Code', 'Reporting Year', 'Industry Type (subparts)', 'Industry Type (sectors)', 'Unit Name', 'Unit Type', 'Unit Reporting Method', 'Unit Maximum Rated Heat Input Capacity (mmBTU/hr)', 'Unit CO2 emissions (non-biogenic) ', 'Unit Methane (CH4) emissions ', 'Unit Nitrous Oxide (N2O) emissions ', 'Unit Biogenic CO2 emissions (metric tons)']\n",
      "(190709, 17)\n",
      "(10279, 17)\n"
     ]
    },
    {
     "data": {
      "text/plain": [
       "(927, 17)"
      ]
     },
     "execution_count": 4,
     "metadata": {},
     "output_type": "execute_result"
    }
   ],
   "source": [
    "emissions = pd.read_excel(r'./Emissions by Unit and Fuel Type.xlsx',\n",
    "                          sheet_name='UNIT_DATA', skiprows=4)\n",
    "print(list(emissions.columns))\n",
    "print(emissions.shape)\n",
    "emissions = emissions[emissions.State == 'CA']\n",
    "print(emissions.shape)\n",
    "emsCA2019 = emissions[emissions['Reporting Year'] == 2019]\n",
    "emsCA2019.shape"
   ]
  },
  {
   "cell_type": "code",
   "execution_count": 8,
   "metadata": {},
   "outputs": [
    {
     "data": {
      "text/plain": [
       "(927, 26)"
      ]
     },
     "execution_count": 8,
     "metadata": {},
     "output_type": "execute_result"
    }
   ],
   "source": [
    "facilitiesB = facilities.rename(inplace=False,\n",
    "                                columns={'Facility Name':'Facility Name2',\n",
    "                                         'City':'City2',\n",
    "                                         'Primary NAICS Code':'Primary NAICS Code2',\n",
    "                                         'Industry Type (subparts)':'Industry Type (subparts)2',\n",
    "                                         'Industry Type (sectors)':'Industry Type (sectors)2'})\n",
    "\n",
    "emsCA2019loc = pd.merge(emsCA2019, facilitiesB[['Facility Id',\n",
    "#                                               'Facility Name2',\n",
    "                                               'City2',\n",
    "                                               'Zip Code',\n",
    "                                               'Address',\n",
    "                                               'County',\n",
    "                                               'Latitude',\n",
    "                                               'Longitude',\n",
    "                                               'Cement Production',\n",
    "#                                               'Primary NAICS Code2',\n",
    "                                               'Industry Type (subparts)2',\n",
    "                                               'Industry Type (sectors)2']],\n",
    "                        how='left', on='Facility Id')\n",
    "emsCA2019loc.shape\n",
    "# tran2_df = pd.merge(tran_df, dupeval_df, how='left', on='value')"
   ]
  },
  {
   "cell_type": "code",
   "execution_count": 9,
   "metadata": {},
   "outputs": [
    {
     "data": {
      "text/html": [
       "<div>\n",
       "<style scoped>\n",
       "    .dataframe tbody tr th:only-of-type {\n",
       "        vertical-align: middle;\n",
       "    }\n",
       "\n",
       "    .dataframe tbody tr th {\n",
       "        vertical-align: top;\n",
       "    }\n",
       "\n",
       "    .dataframe thead th {\n",
       "        text-align: right;\n",
       "    }\n",
       "</style>\n",
       "<table border=\"1\" class=\"dataframe\">\n",
       "  <thead>\n",
       "    <tr style=\"text-align: right;\">\n",
       "      <th></th>\n",
       "      <th>Facility Id</th>\n",
       "      <th>FRS Id</th>\n",
       "      <th>Facility Name</th>\n",
       "      <th>City</th>\n",
       "      <th>State</th>\n",
       "      <th>Primary NAICS Code</th>\n",
       "      <th>Reporting Year</th>\n",
       "      <th>Industry Type (subparts)</th>\n",
       "      <th>Industry Type (sectors)</th>\n",
       "      <th>Unit Name</th>\n",
       "      <th>...</th>\n",
       "      <th>Unit Biogenic CO2 emissions (metric tons)</th>\n",
       "      <th>City2</th>\n",
       "      <th>Zip Code</th>\n",
       "      <th>Address</th>\n",
       "      <th>County</th>\n",
       "      <th>Latitude</th>\n",
       "      <th>Longitude</th>\n",
       "      <th>Cement Production</th>\n",
       "      <th>Industry Type (subparts)2</th>\n",
       "      <th>Industry Type (sectors)2</th>\n",
       "    </tr>\n",
       "  </thead>\n",
       "  <tbody>\n",
       "    <tr>\n",
       "      <td>0</td>\n",
       "      <td>1012089</td>\n",
       "      <td>NaN</td>\n",
       "      <td>Aemetis Advanced Fuels Keyes, Inc.</td>\n",
       "      <td>Ceres</td>\n",
       "      <td>CA</td>\n",
       "      <td>325193</td>\n",
       "      <td>2019</td>\n",
       "      <td>C</td>\n",
       "      <td>Other</td>\n",
       "      <td>GP-Multiple Units</td>\n",
       "      <td>...</td>\n",
       "      <td>0.0</td>\n",
       "      <td>Ceres</td>\n",
       "      <td>95307</td>\n",
       "      <td>4209 Jessup Road</td>\n",
       "      <td>STANISLAUS COUNTY</td>\n",
       "      <td>37.553007</td>\n",
       "      <td>-120.916475</td>\n",
       "      <td>NaN</td>\n",
       "      <td>C</td>\n",
       "      <td>Other</td>\n",
       "    </tr>\n",
       "    <tr>\n",
       "      <td>1</td>\n",
       "      <td>1002316</td>\n",
       "      <td>1.100438e+11</td>\n",
       "      <td>Aera Energy 25 Hill</td>\n",
       "      <td>Maricopa</td>\n",
       "      <td>CA</td>\n",
       "      <td>211120</td>\n",
       "      <td>2019</td>\n",
       "      <td>C</td>\n",
       "      <td>Petroleum and Natural Gas Systems</td>\n",
       "      <td>25 Hill Operator Building</td>\n",
       "      <td>...</td>\n",
       "      <td>0.0</td>\n",
       "      <td>Maricopa</td>\n",
       "      <td>93252</td>\n",
       "      <td>29235 Highway 33</td>\n",
       "      <td>KERN COUNTY</td>\n",
       "      <td>35.092330</td>\n",
       "      <td>-119.407371</td>\n",
       "      <td>NaN</td>\n",
       "      <td>C</td>\n",
       "      <td>Petroleum and Natural Gas Systems</td>\n",
       "    </tr>\n",
       "    <tr>\n",
       "      <td>2</td>\n",
       "      <td>1002316</td>\n",
       "      <td>1.100438e+11</td>\n",
       "      <td>Aera Energy 25 Hill</td>\n",
       "      <td>Maricopa</td>\n",
       "      <td>CA</td>\n",
       "      <td>211120</td>\n",
       "      <td>2019</td>\n",
       "      <td>C</td>\n",
       "      <td>Petroleum and Natural Gas Systems</td>\n",
       "      <td>CP-HILL-01</td>\n",
       "      <td>...</td>\n",
       "      <td>0.0</td>\n",
       "      <td>Maricopa</td>\n",
       "      <td>93252</td>\n",
       "      <td>29235 Highway 33</td>\n",
       "      <td>KERN COUNTY</td>\n",
       "      <td>35.092330</td>\n",
       "      <td>-119.407371</td>\n",
       "      <td>NaN</td>\n",
       "      <td>C</td>\n",
       "      <td>Petroleum and Natural Gas Systems</td>\n",
       "    </tr>\n",
       "    <tr>\n",
       "      <td>3</td>\n",
       "      <td>1002316</td>\n",
       "      <td>1.100438e+11</td>\n",
       "      <td>Aera Energy 25 Hill</td>\n",
       "      <td>Maricopa</td>\n",
       "      <td>CA</td>\n",
       "      <td>211120</td>\n",
       "      <td>2019</td>\n",
       "      <td>C</td>\n",
       "      <td>Petroleum and Natural Gas Systems</td>\n",
       "      <td>CP-HILL-02</td>\n",
       "      <td>...</td>\n",
       "      <td>0.0</td>\n",
       "      <td>Maricopa</td>\n",
       "      <td>93252</td>\n",
       "      <td>29235 Highway 33</td>\n",
       "      <td>KERN COUNTY</td>\n",
       "      <td>35.092330</td>\n",
       "      <td>-119.407371</td>\n",
       "      <td>NaN</td>\n",
       "      <td>C</td>\n",
       "      <td>Petroleum and Natural Gas Systems</td>\n",
       "    </tr>\n",
       "    <tr>\n",
       "      <td>4</td>\n",
       "      <td>1002316</td>\n",
       "      <td>1.100438e+11</td>\n",
       "      <td>Aera Energy 25 Hill</td>\n",
       "      <td>Maricopa</td>\n",
       "      <td>CA</td>\n",
       "      <td>211120</td>\n",
       "      <td>2019</td>\n",
       "      <td>C</td>\n",
       "      <td>Petroleum and Natural Gas Systems</td>\n",
       "      <td>CP-HILL-03</td>\n",
       "      <td>...</td>\n",
       "      <td>0.0</td>\n",
       "      <td>Maricopa</td>\n",
       "      <td>93252</td>\n",
       "      <td>29235 Highway 33</td>\n",
       "      <td>KERN COUNTY</td>\n",
       "      <td>35.092330</td>\n",
       "      <td>-119.407371</td>\n",
       "      <td>NaN</td>\n",
       "      <td>C</td>\n",
       "      <td>Petroleum and Natural Gas Systems</td>\n",
       "    </tr>\n",
       "  </tbody>\n",
       "</table>\n",
       "<p>5 rows × 26 columns</p>\n",
       "</div>"
      ],
      "text/plain": [
       "   Facility Id        FRS Id                       Facility Name      City  \\\n",
       "0      1012089           NaN  Aemetis Advanced Fuels Keyes, Inc.     Ceres   \n",
       "1      1002316  1.100438e+11                 Aera Energy 25 Hill  Maricopa   \n",
       "2      1002316  1.100438e+11                 Aera Energy 25 Hill  Maricopa   \n",
       "3      1002316  1.100438e+11                 Aera Energy 25 Hill  Maricopa   \n",
       "4      1002316  1.100438e+11                 Aera Energy 25 Hill  Maricopa   \n",
       "\n",
       "  State  Primary NAICS Code  Reporting Year Industry Type (subparts)  \\\n",
       "0    CA              325193            2019                        C   \n",
       "1    CA              211120            2019                        C   \n",
       "2    CA              211120            2019                        C   \n",
       "3    CA              211120            2019                        C   \n",
       "4    CA              211120            2019                        C   \n",
       "\n",
       "             Industry Type (sectors)                  Unit Name  ...  \\\n",
       "0                              Other          GP-Multiple Units  ...   \n",
       "1  Petroleum and Natural Gas Systems  25 Hill Operator Building  ...   \n",
       "2  Petroleum and Natural Gas Systems                 CP-HILL-01  ...   \n",
       "3  Petroleum and Natural Gas Systems                 CP-HILL-02  ...   \n",
       "4  Petroleum and Natural Gas Systems                 CP-HILL-03  ...   \n",
       "\n",
       "  Unit Biogenic CO2 emissions (metric tons)     City2  Zip Code  \\\n",
       "0                                       0.0     Ceres     95307   \n",
       "1                                       0.0  Maricopa     93252   \n",
       "2                                       0.0  Maricopa     93252   \n",
       "3                                       0.0  Maricopa     93252   \n",
       "4                                       0.0  Maricopa     93252   \n",
       "\n",
       "            Address             County   Latitude   Longitude  \\\n",
       "0  4209 Jessup Road  STANISLAUS COUNTY  37.553007 -120.916475   \n",
       "1  29235 Highway 33        KERN COUNTY  35.092330 -119.407371   \n",
       "2  29235 Highway 33        KERN COUNTY  35.092330 -119.407371   \n",
       "3  29235 Highway 33        KERN COUNTY  35.092330 -119.407371   \n",
       "4  29235 Highway 33        KERN COUNTY  35.092330 -119.407371   \n",
       "\n",
       "  Cement Production  Industry Type (subparts)2  \\\n",
       "0               NaN                          C   \n",
       "1               NaN                          C   \n",
       "2               NaN                          C   \n",
       "3               NaN                          C   \n",
       "4               NaN                          C   \n",
       "\n",
       "            Industry Type (sectors)2  \n",
       "0                              Other  \n",
       "1  Petroleum and Natural Gas Systems  \n",
       "2  Petroleum and Natural Gas Systems  \n",
       "3  Petroleum and Natural Gas Systems  \n",
       "4  Petroleum and Natural Gas Systems  \n",
       "\n",
       "[5 rows x 26 columns]"
      ]
     },
     "execution_count": 9,
     "metadata": {},
     "output_type": "execute_result"
    }
   ],
   "source": [
    "emsCA2019loc.head()"
   ]
  },
  {
   "cell_type": "code",
   "execution_count": 10,
   "metadata": {},
   "outputs": [
    {
     "data": {
      "text/plain": [
       "Index(['Facility Id', 'FRS Id', 'Facility Name', 'City', 'State',\n",
       "       'Primary NAICS Code', 'Reporting Year', 'Industry Type (subparts)',\n",
       "       'Industry Type (sectors)', 'Unit Name', 'Unit Type',\n",
       "       'Unit Reporting Method',\n",
       "       'Unit Maximum Rated Heat Input Capacity (mmBTU/hr)',\n",
       "       'Unit CO2 emissions (non-biogenic) ', 'Unit Methane (CH4) emissions ',\n",
       "       'Unit Nitrous Oxide (N2O) emissions ',\n",
       "       'Unit Biogenic CO2 emissions (metric tons)', 'City2', 'Zip Code',\n",
       "       'Address', 'County', 'Latitude', 'Longitude', 'Cement Production',\n",
       "       'Industry Type (subparts)2', 'Industry Type (sectors)2'],\n",
       "      dtype='object')"
      ]
     },
     "execution_count": 10,
     "metadata": {},
     "output_type": "execute_result"
    }
   ],
   "source": [
    "emsCA2019loc.columns"
   ]
  },
  {
   "cell_type": "code",
   "execution_count": 34,
   "metadata": {},
   "outputs": [
    {
     "data": {
      "text/plain": [
       "59638912.489999995"
      ]
     },
     "execution_count": 34,
     "metadata": {},
     "output_type": "execute_result"
    }
   ],
   "source": [
    "emsCA2019loc['Unit CO2 emissions (non-biogenic) '].sum()"
   ]
  },
  {
   "cell_type": "code",
   "execution_count": 11,
   "metadata": {},
   "outputs": [
    {
     "data": {
      "text/plain": [
       "18227678.593999997"
      ]
     },
     "execution_count": 11,
     "metadata": {},
     "output_type": "execute_result"
    }
   ],
   "source": [
    "emsCA2019loc['Cement Production'].sum()"
   ]
  },
  {
   "cell_type": "code",
   "execution_count": 12,
   "metadata": {},
   "outputs": [
    {
     "data": {
      "text/plain": [
       "14"
      ]
     },
     "execution_count": 12,
     "metadata": {},
     "output_type": "execute_result"
    }
   ],
   "source": [
    "emsCA2019loc['Cement Production'].count()"
   ]
  },
  {
   "cell_type": "code",
   "execution_count": 13,
   "metadata": {},
   "outputs": [],
   "source": [
    "emsCA2019loc.to_csv('emitter_volumes.csv')"
   ]
  },
  {
   "cell_type": "code",
   "execution_count": null,
   "metadata": {},
   "outputs": [],
   "source": []
  }
 ],
 "metadata": {
  "kernelspec": {
   "display_name": "Python 3",
   "language": "python",
   "name": "python3"
  },
  "language_info": {
   "codemirror_mode": {
    "name": "ipython",
    "version": 3
   },
   "file_extension": ".py",
   "mimetype": "text/x-python",
   "name": "python",
   "nbconvert_exporter": "python",
   "pygments_lexer": "ipython3",
   "version": "3.7.4"
  }
 },
 "nbformat": 4,
 "nbformat_minor": 2
}
