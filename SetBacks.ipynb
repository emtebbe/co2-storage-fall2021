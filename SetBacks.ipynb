{
 "cells": [
  {
   "cell_type": "code",
   "execution_count": 24,
   "metadata": {},
   "outputs": [],
   "source": [
    "import os\n",
    "import time\n",
    "import numpy as np\n",
    "import pandas as pd\n",
    "DATADIR = 'D:/W210_Capstone/co2-storage-fall2021/data/'\n",
    "os.chdir(DATADIR)\n",
    "wells = pd.read_csv(r'./CalGEM_ProInj_FracTracker_8.5.21.csv', engine='python')"
   ]
  },
  {
   "cell_type": "code",
   "execution_count": 25,
   "metadata": {},
   "outputs": [],
   "source": [
    "sb_hc_wells = pd.read_excel(r'./wells/AllWells_HalfmileSetbacks_FracTracker.xlsx',\n",
    "                          sheet_name='CHHS_HealthcareFaci',\n",
    "                          index_col=None,\n",
    "                          usecols='A')\n",
    "sb_hc_wells['setback_healthcare'] = 1\n",
    "sb_dc_wells = pd.read_excel(r'./wells/AllWells_HalfmileSetbacks_FracTracker.xlsx',\n",
    "                          sheet_name='CHHS_Daycares',\n",
    "                          index_col=None,\n",
    "                          usecols='A')\n",
    "sb_dc_wells['setback_daycare'] = 1\n",
    "sb_pr_wells = pd.read_excel(r'./wells/AllWells_HalfmileSetbacks_FracTracker.xlsx',\n",
    "                          sheet_name='DHS_Prisons',\n",
    "                          index_col=None,\n",
    "                          usecols='A')\n",
    "sb_pr_wells['setback_prison'] = 1\n",
    "sb_ec_wells = pd.read_excel(r'./wells/AllWells_HalfmileSetbacks_FracTracker.xlsx',\n",
    "                          sheet_name='CHHS_ResElderlyCare',\n",
    "                          index_col=None,\n",
    "                          usecols='A')\n",
    "sb_ec_wells['setback_eldcare'] = 1\n",
    "sb_re_wells = pd.read_excel(r'./wells/AllWells_HalfmileSetbacks_FracTracker.xlsx',\n",
    "                          sheet_name='Streetmaps_Residences',\n",
    "                          index_col=None,\n",
    "                          usecols='A')\n",
    "sb_re_wells['setback_resident'] = 1\n",
    "sb_sp_wells = pd.read_excel(r'./wells/AllWells_HalfmileSetbacks_FracTracker.xlsx',\n",
    "                          sheet_name='CSCD_SchoolProperty',\n",
    "                          index_col=None,\n",
    "                          usecols='A')\n",
    "sb_sp_wells['setback_pschool'] = 1\n",
    "# CHHS_HealthcareFaci\n",
    "# CHHS_Daycares\n",
    "# DHS_Prisons\n",
    "# CHHS_ResElderlyCare\n",
    "# Streetmaps_Residences\n",
    "# CSCD_SchoolProperty"
   ]
  },
  {
   "cell_type": "code",
   "execution_count": 26,
   "metadata": {},
   "outputs": [
    {
     "data": {
      "text/html": [
       "<div>\n",
       "<style scoped>\n",
       "    .dataframe tbody tr th:only-of-type {\n",
       "        vertical-align: middle;\n",
       "    }\n",
       "\n",
       "    .dataframe tbody tr th {\n",
       "        vertical-align: top;\n",
       "    }\n",
       "\n",
       "    .dataframe thead th {\n",
       "        text-align: right;\n",
       "    }\n",
       "</style>\n",
       "<table border=\"1\" class=\"dataframe\">\n",
       "  <thead>\n",
       "    <tr style=\"text-align: right;\">\n",
       "      <th></th>\n",
       "      <th>API</th>\n",
       "      <th>setback_healthcare</th>\n",
       "    </tr>\n",
       "  </thead>\n",
       "  <tbody>\n",
       "    <tr>\n",
       "      <td>0</td>\n",
       "      <td>405901286</td>\n",
       "      <td>1</td>\n",
       "    </tr>\n",
       "    <tr>\n",
       "      <td>1</td>\n",
       "      <td>405901198</td>\n",
       "      <td>1</td>\n",
       "    </tr>\n",
       "    <tr>\n",
       "      <td>2</td>\n",
       "      <td>407300047</td>\n",
       "      <td>1</td>\n",
       "    </tr>\n",
       "    <tr>\n",
       "      <td>3</td>\n",
       "      <td>403705114</td>\n",
       "      <td>1</td>\n",
       "    </tr>\n",
       "    <tr>\n",
       "      <td>4</td>\n",
       "      <td>405901109</td>\n",
       "      <td>1</td>\n",
       "    </tr>\n",
       "  </tbody>\n",
       "</table>\n",
       "</div>"
      ],
      "text/plain": [
       "         API  setback_healthcare\n",
       "0  405901286                   1\n",
       "1  405901198                   1\n",
       "2  407300047                   1\n",
       "3  403705114                   1\n",
       "4  405901109                   1"
      ]
     },
     "execution_count": 26,
     "metadata": {},
     "output_type": "execute_result"
    }
   ],
   "source": [
    "sb_hc_wells.head()"
   ]
  },
  {
   "cell_type": "code",
   "execution_count": 27,
   "metadata": {},
   "outputs": [],
   "source": [
    "sb_hc_wells.rename(inplace=True, columns={'API':'Updated_API'})\n",
    "sb_dc_wells.rename(inplace=True, columns={'API':'Updated_API'})\n",
    "sb_pr_wells.rename(inplace=True, columns={'API':'Updated_API'})\n",
    "sb_ec_wells.rename(inplace=True, columns={'API':'Updated_API'})\n",
    "sb_re_wells.rename(inplace=True, columns={'API':'Updated_API'})\n",
    "sb_sp_wells.rename(inplace=True, columns={'API':'Updated_API'})\n",
    "wells = pd.merge(wells, sb_hc_wells, how='left', on='Updated_API')\n",
    "wells = pd.merge(wells, sb_dc_wells, how='left', on='Updated_API')\n",
    "wells = pd.merge(wells, sb_pr_wells, how='left', on='Updated_API')\n",
    "wells = pd.merge(wells, sb_ec_wells, how='left', on='Updated_API')\n",
    "wells = pd.merge(wells, sb_re_wells, how='left', on='Updated_API')\n",
    "wells = pd.merge(wells, sb_sp_wells, how='left', on='Updated_API')"
   ]
  },
  {
   "cell_type": "code",
   "execution_count": 28,
   "metadata": {},
   "outputs": [
    {
     "data": {
      "text/plain": [
       "3292.0"
      ]
     },
     "execution_count": 28,
     "metadata": {},
     "output_type": "execute_result"
    }
   ],
   "source": [
    "wells.setback_healthcare.sum()"
   ]
  },
  {
   "cell_type": "code",
   "execution_count": 32,
   "metadata": {},
   "outputs": [],
   "source": [
    "wells['setback_any'] = (( wells['setback_healthcare'] > 0 ) |\n",
    "                       ( wells['setback_daycare'] > 0 ) |\n",
    "                       ( wells['setback_prison'] > 0 ) |\n",
    "                       ( wells['setback_eldcare'] > 0 ) |\n",
    "                       ( wells['setback_resident'] > 0 ) |\n",
    "                       ( wells['setback_pschool'] > 0 ))"
   ]
  },
  {
   "cell_type": "code",
   "execution_count": 33,
   "metadata": {},
   "outputs": [
    {
     "data": {
      "text/plain": [
       "17608"
      ]
     },
     "execution_count": 33,
     "metadata": {},
     "output_type": "execute_result"
    }
   ],
   "source": [
    "wells.setback_any.sum()"
   ]
  },
  {
   "cell_type": "code",
   "execution_count": 34,
   "metadata": {},
   "outputs": [],
   "source": [
    "wells2 = wells[wells['API_ID'].notna()]"
   ]
  },
  {
   "cell_type": "code",
   "execution_count": 36,
   "metadata": {},
   "outputs": [
    {
     "data": {
      "text/plain": [
       "(243084, 450)"
      ]
     },
     "execution_count": 36,
     "metadata": {},
     "output_type": "execute_result"
    }
   ],
   "source": [
    "wells2.shape"
   ]
  },
  {
   "cell_type": "code",
   "execution_count": 37,
   "metadata": {},
   "outputs": [
    {
     "data": {
      "text/plain": [
       "Index(['OldAPI', 'OldAPI_ID', 'Updated_API', 'API_ID', 'LeaseName',\n",
       "       'WellNumber', 'WellStatus_10.30.19', 'WellType_10.30.19',\n",
       "       'Operatorcode', 'OperatorName',\n",
       "       ...\n",
       "       'APIGravityofOil_2020', 'FAP_Code_2020', 'Status2020',\n",
       "       'setback_healthcare', 'setback_daycare', 'setback_prison',\n",
       "       'setback_eldcare', 'setback_resident', 'setback_pschool',\n",
       "       'setback_any'],\n",
       "      dtype='object', length=450)"
      ]
     },
     "execution_count": 37,
     "metadata": {},
     "output_type": "execute_result"
    }
   ],
   "source": [
    "wells2.columns"
   ]
  },
  {
   "cell_type": "code",
   "execution_count": 38,
   "metadata": {},
   "outputs": [
    {
     "name": "stdout",
     "output_type": "stream",
     "text": [
      "TotalGas_77 TotalGas_78 TotalGas_79 TotalGas_80 TotalGas_81 TotalGas_82 TotalGas_83 TotalGas_84 TotalGas_85 TotalGas_86 TotalGas_87 TotalGas_88 TotalGas_89 TotalGas_90 TotalGas_91 TotalGas_92 TotalGas_93 TotalGas_94 TotalGas_95 TotalGas_96 TotalGas_97 TotalGas_98 TotalGas_99 TotalGas_00 TotalGas_01 TotalGas_02 TotalGas_03 TotalGas_04 TotalGas_05 TotalGas_06 TotalGas_07 TotalGas_08 TotalGas_09 TotalGas_10 TotalGas_11 TotalGas_12 TotalGas_13 TotalGas_14 Gas_Inj_14 TotalGas_15 Gas_Inj_15 TotalGas_16 Gas_Inj_16 TotalGas_17 Gas_Inj_17 TotalGas_18 GasAirInjected_2018 GasProduced_2019 GasProduced_2020\n"
     ]
    }
   ],
   "source": [
    "# matching = [s for s in some_list if \"abc\" in s]\n",
    "oils = [ o for o in wells2.columns if 'Gas' in o ]\n",
    "print(*oils)"
   ]
  },
  {
   "cell_type": "code",
   "execution_count": 39,
   "metadata": {},
   "outputs": [
    {
     "name": "stdout",
     "output_type": "stream",
     "text": [
      "TotalOil_77 TotalOil_78 TotalOil_79 TotalOil_80 TotalOil_81 TotalOil_82 TotalOil_83 TotalOil_84 TotalOil_85 TotalOil_86 TotalOil_87 TotalOil_88 TotalOil_89 TotalOil_90 TotalOil_91 TotalOil_92 TotalOil_93 TotalOil_94 TotalOil_95 TotalOil_96 TotalOil_97 TotalOil_98 TotalOil_99 TotalOil_00 TotalOil_01 TotalOil_02 TotalOil_03 TotalOil_04 TotalOil_05 TotalOil_06 TotalOil_07 TotalOil_08 TotalOil_09 TotalOil_10 TotalOil_11 TotalOil_12 TotalOil_13 TotalOil_14 TotalOil_15 TotalOil_16 TotalOil_17 TotalOil_18 OilorCondensateProduced_2019 OilorCondensateProduced_2020\n"
     ]
    },
    {
     "name": "stderr",
     "output_type": "stream",
     "text": [
      "C:\\ProgramData\\Anaconda3\\lib\\site-packages\\ipykernel_launcher.py:5: SettingWithCopyWarning: \n",
      "A value is trying to be set on a copy of a slice from a DataFrame.\n",
      "Try using .loc[row_indexer,col_indexer] = value instead\n",
      "\n",
      "See the caveats in the documentation: http://pandas.pydata.org/pandas-docs/stable/user_guide/indexing.html#returning-a-view-versus-a-copy\n",
      "  \"\"\"\n"
     ]
    }
   ],
   "source": [
    "totaloil_cols = [ o for o in wells2.columns if 'TotalOil' in o ]\n",
    "totaloil_cols.append('OilorCondensateProduced_2019')\n",
    "totaloil_cols.append('OilorCondensateProduced_2020')\n",
    "print(*totaloil_cols)\n",
    "wells2['alloil'] = wells2.loc[:, totaloil_cols].sum(axis=1)"
   ]
  },
  {
   "cell_type": "code",
   "execution_count": 40,
   "metadata": {},
   "outputs": [
    {
     "name": "stdout",
     "output_type": "stream",
     "text": [
      "TotalGas_77 TotalGas_78 TotalGas_79 TotalGas_80 TotalGas_81 TotalGas_82 TotalGas_83 TotalGas_84 TotalGas_85 TotalGas_86 TotalGas_87 TotalGas_88 TotalGas_89 TotalGas_90 TotalGas_91 TotalGas_92 TotalGas_93 TotalGas_94 TotalGas_95 TotalGas_96 TotalGas_97 TotalGas_98 TotalGas_99 TotalGas_00 TotalGas_01 TotalGas_02 TotalGas_03 TotalGas_04 TotalGas_05 TotalGas_06 TotalGas_07 TotalGas_08 TotalGas_09 TotalGas_10 TotalGas_11 TotalGas_12 TotalGas_13 TotalGas_14 TotalGas_15 TotalGas_16 TotalGas_17 TotalGas_18 GasProduced_2019 GasProduced_2020\n"
     ]
    },
    {
     "name": "stderr",
     "output_type": "stream",
     "text": [
      "C:\\ProgramData\\Anaconda3\\lib\\site-packages\\ipykernel_launcher.py:5: SettingWithCopyWarning: \n",
      "A value is trying to be set on a copy of a slice from a DataFrame.\n",
      "Try using .loc[row_indexer,col_indexer] = value instead\n",
      "\n",
      "See the caveats in the documentation: http://pandas.pydata.org/pandas-docs/stable/user_guide/indexing.html#returning-a-view-versus-a-copy\n",
      "  \"\"\"\n"
     ]
    }
   ],
   "source": [
    "totalgas_cols = [ o for o in wells2.columns if 'TotalGas' in o ]\n",
    "totalgas_cols.append('GasProduced_2019')\n",
    "totalgas_cols.append('GasProduced_2020')\n",
    "print(*totalgas_cols)\n",
    "wells2['allgas'] = wells2.loc[:, totalgas_cols].sum(axis=1)"
   ]
  },
  {
   "cell_type": "code",
   "execution_count": 41,
   "metadata": {},
   "outputs": [
    {
     "data": {
      "text/html": [
       "<div>\n",
       "<style scoped>\n",
       "    .dataframe tbody tr th:only-of-type {\n",
       "        vertical-align: middle;\n",
       "    }\n",
       "\n",
       "    .dataframe tbody tr th {\n",
       "        vertical-align: top;\n",
       "    }\n",
       "\n",
       "    .dataframe thead th {\n",
       "        text-align: right;\n",
       "    }\n",
       "</style>\n",
       "<table border=\"1\" class=\"dataframe\">\n",
       "  <thead>\n",
       "    <tr style=\"text-align: right;\">\n",
       "      <th></th>\n",
       "      <th>OldAPI</th>\n",
       "      <th>OldAPI_ID</th>\n",
       "      <th>Updated_API</th>\n",
       "      <th>API_ID</th>\n",
       "      <th>LeaseName</th>\n",
       "      <th>WellNumber</th>\n",
       "      <th>WellStatus_10.30.19</th>\n",
       "      <th>WellType_10.30.19</th>\n",
       "      <th>Operatorcode</th>\n",
       "      <th>OperatorName</th>\n",
       "      <th>...</th>\n",
       "      <th>Status2020</th>\n",
       "      <th>setback_healthcare</th>\n",
       "      <th>setback_daycare</th>\n",
       "      <th>setback_prison</th>\n",
       "      <th>setback_eldcare</th>\n",
       "      <th>setback_resident</th>\n",
       "      <th>setback_pschool</th>\n",
       "      <th>setback_any</th>\n",
       "      <th>alloil</th>\n",
       "      <th>allgas</th>\n",
       "    </tr>\n",
       "  </thead>\n",
       "  <tbody>\n",
       "    <tr>\n",
       "      <td>0</td>\n",
       "      <td>411104475.0</td>\n",
       "      <td>11104475.0</td>\n",
       "      <td>411104475.0</td>\n",
       "      <td>11104475.0</td>\n",
       "      <td>Taylor</td>\n",
       "      <td>18</td>\n",
       "      <td>Plugged</td>\n",
       "      <td>OG</td>\n",
       "      <td>A0610</td>\n",
       "      <td>Aera Energy LLC</td>\n",
       "      <td>...</td>\n",
       "      <td>Plugged</td>\n",
       "      <td>NaN</td>\n",
       "      <td>NaN</td>\n",
       "      <td>NaN</td>\n",
       "      <td>NaN</td>\n",
       "      <td>NaN</td>\n",
       "      <td>NaN</td>\n",
       "      <td>False</td>\n",
       "      <td>0.00000</td>\n",
       "      <td>0.00000</td>\n",
       "    </tr>\n",
       "    <tr>\n",
       "      <td>1</td>\n",
       "      <td>401906438.0</td>\n",
       "      <td>1906438.0</td>\n",
       "      <td>401906438.0</td>\n",
       "      <td>1906438.0</td>\n",
       "      <td>0</td>\n",
       "      <td>?</td>\n",
       "      <td>#REF!</td>\n",
       "      <td>OG</td>\n",
       "      <td>C6400</td>\n",
       "      <td>Coast Range Oil Co.</td>\n",
       "      <td>...</td>\n",
       "      <td>NaN</td>\n",
       "      <td>NaN</td>\n",
       "      <td>NaN</td>\n",
       "      <td>NaN</td>\n",
       "      <td>NaN</td>\n",
       "      <td>NaN</td>\n",
       "      <td>NaN</td>\n",
       "      <td>False</td>\n",
       "      <td>0.00000</td>\n",
       "      <td>0.00000</td>\n",
       "    </tr>\n",
       "    <tr>\n",
       "      <td>2</td>\n",
       "      <td>401906487.0</td>\n",
       "      <td>1906487.0</td>\n",
       "      <td>401906487.0</td>\n",
       "      <td>1906487.0</td>\n",
       "      <td>Ward</td>\n",
       "      <td>OLD 3</td>\n",
       "      <td>#REF!</td>\n",
       "      <td>OG</td>\n",
       "      <td>C5640</td>\n",
       "      <td>Chevron U.S.A. Inc.</td>\n",
       "      <td>...</td>\n",
       "      <td>NaN</td>\n",
       "      <td>NaN</td>\n",
       "      <td>NaN</td>\n",
       "      <td>NaN</td>\n",
       "      <td>NaN</td>\n",
       "      <td>NaN</td>\n",
       "      <td>NaN</td>\n",
       "      <td>False</td>\n",
       "      <td>0.00000</td>\n",
       "      <td>0.00000</td>\n",
       "    </tr>\n",
       "    <tr>\n",
       "      <td>3</td>\n",
       "      <td>402932860.0</td>\n",
       "      <td>2932860.0</td>\n",
       "      <td>402932860.0</td>\n",
       "      <td>2932860.0</td>\n",
       "      <td>0</td>\n",
       "      <td>4</td>\n",
       "      <td>#REF!</td>\n",
       "      <td>DH</td>\n",
       "      <td>C5640</td>\n",
       "      <td>Chevron U.S.A. Inc.</td>\n",
       "      <td>...</td>\n",
       "      <td>NaN</td>\n",
       "      <td>NaN</td>\n",
       "      <td>NaN</td>\n",
       "      <td>NaN</td>\n",
       "      <td>NaN</td>\n",
       "      <td>NaN</td>\n",
       "      <td>NaN</td>\n",
       "      <td>False</td>\n",
       "      <td>0.00000</td>\n",
       "      <td>0.00000</td>\n",
       "    </tr>\n",
       "    <tr>\n",
       "      <td>4</td>\n",
       "      <td>402932892.0</td>\n",
       "      <td>2932892.0</td>\n",
       "      <td>402932892.0</td>\n",
       "      <td>2932892.0</td>\n",
       "      <td>Quinby</td>\n",
       "      <td>460D</td>\n",
       "      <td>Plugged</td>\n",
       "      <td>CH</td>\n",
       "      <td>C5640</td>\n",
       "      <td>Chevron U.S.A. Inc.</td>\n",
       "      <td>...</td>\n",
       "      <td>NaN</td>\n",
       "      <td>NaN</td>\n",
       "      <td>NaN</td>\n",
       "      <td>NaN</td>\n",
       "      <td>NaN</td>\n",
       "      <td>NaN</td>\n",
       "      <td>NaN</td>\n",
       "      <td>False</td>\n",
       "      <td>0.00000</td>\n",
       "      <td>0.00000</td>\n",
       "    </tr>\n",
       "    <tr>\n",
       "      <td>5</td>\n",
       "      <td>402932950.0</td>\n",
       "      <td>2932950.0</td>\n",
       "      <td>402932950.0</td>\n",
       "      <td>2932950.0</td>\n",
       "      <td>Giant</td>\n",
       "      <td>344D</td>\n",
       "      <td>Plugged</td>\n",
       "      <td>CH</td>\n",
       "      <td>C5640</td>\n",
       "      <td>Chevron U.S.A. Inc.</td>\n",
       "      <td>...</td>\n",
       "      <td>Plugged</td>\n",
       "      <td>NaN</td>\n",
       "      <td>NaN</td>\n",
       "      <td>NaN</td>\n",
       "      <td>NaN</td>\n",
       "      <td>NaN</td>\n",
       "      <td>NaN</td>\n",
       "      <td>False</td>\n",
       "      <td>0.00000</td>\n",
       "      <td>0.00000</td>\n",
       "    </tr>\n",
       "    <tr>\n",
       "      <td>6</td>\n",
       "      <td>402932952.0</td>\n",
       "      <td>2932952.0</td>\n",
       "      <td>402932952.0</td>\n",
       "      <td>2932952.0</td>\n",
       "      <td>Del Monte</td>\n",
       "      <td>393D</td>\n",
       "      <td>Plugged</td>\n",
       "      <td>CH</td>\n",
       "      <td>C5640</td>\n",
       "      <td>Chevron U.S.A. Inc.</td>\n",
       "      <td>...</td>\n",
       "      <td>NaN</td>\n",
       "      <td>NaN</td>\n",
       "      <td>NaN</td>\n",
       "      <td>NaN</td>\n",
       "      <td>NaN</td>\n",
       "      <td>NaN</td>\n",
       "      <td>NaN</td>\n",
       "      <td>False</td>\n",
       "      <td>0.00000</td>\n",
       "      <td>0.00000</td>\n",
       "    </tr>\n",
       "    <tr>\n",
       "      <td>7</td>\n",
       "      <td>402932953.0</td>\n",
       "      <td>2932953.0</td>\n",
       "      <td>402932953.0</td>\n",
       "      <td>2932953.0</td>\n",
       "      <td>Giant</td>\n",
       "      <td>476D</td>\n",
       "      <td>Active</td>\n",
       "      <td>CH</td>\n",
       "      <td>C5640</td>\n",
       "      <td>Chevron U.S.A. Inc.</td>\n",
       "      <td>...</td>\n",
       "      <td>Active</td>\n",
       "      <td>NaN</td>\n",
       "      <td>NaN</td>\n",
       "      <td>NaN</td>\n",
       "      <td>NaN</td>\n",
       "      <td>NaN</td>\n",
       "      <td>NaN</td>\n",
       "      <td>False</td>\n",
       "      <td>0.00000</td>\n",
       "      <td>0.00000</td>\n",
       "    </tr>\n",
       "    <tr>\n",
       "      <td>8</td>\n",
       "      <td>425921692.0</td>\n",
       "      <td>25921692.0</td>\n",
       "      <td>425921692.0</td>\n",
       "      <td>25921692.0</td>\n",
       "      <td>State 3095</td>\n",
       "      <td>128</td>\n",
       "      <td>Active</td>\n",
       "      <td>OG</td>\n",
       "      <td>D1325</td>\n",
       "      <td>DCOR, LLC</td>\n",
       "      <td>...</td>\n",
       "      <td>Active</td>\n",
       "      <td>NaN</td>\n",
       "      <td>NaN</td>\n",
       "      <td>NaN</td>\n",
       "      <td>NaN</td>\n",
       "      <td>NaN</td>\n",
       "      <td>NaN</td>\n",
       "      <td>False</td>\n",
       "      <td>155464.00000</td>\n",
       "      <td>174915.00000</td>\n",
       "    </tr>\n",
       "    <tr>\n",
       "      <td>9</td>\n",
       "      <td>425903062.0</td>\n",
       "      <td>25903062.0</td>\n",
       "      <td>425903062.0</td>\n",
       "      <td>25903062.0</td>\n",
       "      <td>State Prc 425</td>\n",
       "      <td>351</td>\n",
       "      <td>#REF!</td>\n",
       "      <td>NaN</td>\n",
       "      <td>C0885</td>\n",
       "      <td>California Resources Production Corporation</td>\n",
       "      <td>...</td>\n",
       "      <td>Active</td>\n",
       "      <td>NaN</td>\n",
       "      <td>NaN</td>\n",
       "      <td>NaN</td>\n",
       "      <td>NaN</td>\n",
       "      <td>NaN</td>\n",
       "      <td>NaN</td>\n",
       "      <td>False</td>\n",
       "      <td>68862.86399</td>\n",
       "      <td>28079.50406</td>\n",
       "    </tr>\n",
       "  </tbody>\n",
       "</table>\n",
       "<p>10 rows × 452 columns</p>\n",
       "</div>"
      ],
      "text/plain": [
       "        OldAPI   OldAPI_ID  Updated_API      API_ID      LeaseName WellNumber  \\\n",
       "0  411104475.0  11104475.0  411104475.0  11104475.0         Taylor         18   \n",
       "1  401906438.0   1906438.0  401906438.0   1906438.0              0          ?   \n",
       "2  401906487.0   1906487.0  401906487.0   1906487.0           Ward      OLD 3   \n",
       "3  402932860.0   2932860.0  402932860.0   2932860.0              0          4   \n",
       "4  402932892.0   2932892.0  402932892.0   2932892.0         Quinby       460D   \n",
       "5  402932950.0   2932950.0  402932950.0   2932950.0          Giant       344D   \n",
       "6  402932952.0   2932952.0  402932952.0   2932952.0      Del Monte       393D   \n",
       "7  402932953.0   2932953.0  402932953.0   2932953.0          Giant       476D   \n",
       "8  425921692.0  25921692.0  425921692.0  25921692.0     State 3095        128   \n",
       "9  425903062.0  25903062.0  425903062.0  25903062.0  State Prc 425        351   \n",
       "\n",
       "  WellStatus_10.30.19 WellType_10.30.19 Operatorcode  \\\n",
       "0             Plugged                OG        A0610   \n",
       "1               #REF!                OG        C6400   \n",
       "2               #REF!                OG        C5640   \n",
       "3               #REF!                DH        C5640   \n",
       "4             Plugged                CH        C5640   \n",
       "5             Plugged                CH        C5640   \n",
       "6             Plugged                CH        C5640   \n",
       "7              Active                CH        C5640   \n",
       "8              Active                OG        D1325   \n",
       "9               #REF!               NaN        C0885   \n",
       "\n",
       "                                  OperatorName  ... Status2020  \\\n",
       "0                              Aera Energy LLC  ...    Plugged   \n",
       "1                          Coast Range Oil Co.  ...        NaN   \n",
       "2                          Chevron U.S.A. Inc.  ...        NaN   \n",
       "3                          Chevron U.S.A. Inc.  ...        NaN   \n",
       "4                          Chevron U.S.A. Inc.  ...        NaN   \n",
       "5                          Chevron U.S.A. Inc.  ...    Plugged   \n",
       "6                          Chevron U.S.A. Inc.  ...        NaN   \n",
       "7                          Chevron U.S.A. Inc.  ...     Active   \n",
       "8                                    DCOR, LLC  ...     Active   \n",
       "9  California Resources Production Corporation  ...     Active   \n",
       "\n",
       "  setback_healthcare setback_daycare setback_prison  setback_eldcare  \\\n",
       "0                NaN             NaN            NaN              NaN   \n",
       "1                NaN             NaN            NaN              NaN   \n",
       "2                NaN             NaN            NaN              NaN   \n",
       "3                NaN             NaN            NaN              NaN   \n",
       "4                NaN             NaN            NaN              NaN   \n",
       "5                NaN             NaN            NaN              NaN   \n",
       "6                NaN             NaN            NaN              NaN   \n",
       "7                NaN             NaN            NaN              NaN   \n",
       "8                NaN             NaN            NaN              NaN   \n",
       "9                NaN             NaN            NaN              NaN   \n",
       "\n",
       "  setback_resident setback_pschool setback_any        alloil        allgas  \n",
       "0              NaN             NaN       False       0.00000       0.00000  \n",
       "1              NaN             NaN       False       0.00000       0.00000  \n",
       "2              NaN             NaN       False       0.00000       0.00000  \n",
       "3              NaN             NaN       False       0.00000       0.00000  \n",
       "4              NaN             NaN       False       0.00000       0.00000  \n",
       "5              NaN             NaN       False       0.00000       0.00000  \n",
       "6              NaN             NaN       False       0.00000       0.00000  \n",
       "7              NaN             NaN       False       0.00000       0.00000  \n",
       "8              NaN             NaN       False  155464.00000  174915.00000  \n",
       "9              NaN             NaN       False   68862.86399   28079.50406  \n",
       "\n",
       "[10 rows x 452 columns]"
      ]
     },
     "execution_count": 41,
     "metadata": {},
     "output_type": "execute_result"
    }
   ],
   "source": [
    "wells2.head(10)"
   ]
  },
  {
   "cell_type": "code",
   "execution_count": 42,
   "metadata": {},
   "outputs": [
    {
     "name": "stdout",
     "output_type": "stream",
     "text": [
      "10.073 Bbl oil\n",
      "18.677 Tcf gas\n"
     ]
    }
   ],
   "source": [
    "print(round(wells2.alloil.sum() / 1000000000, 3), \"Bbl oil\")\n",
    "print(round(wells2.allgas.sum() / 1000000000, 3), \"Tcf gas\")"
   ]
  },
  {
   "cell_type": "markdown",
   "metadata": {},
   "source": [
    "peterhead2015sdp shows, For gas: Based on plans for the depleted Goldeneye field CO2 storage:\n",
    "X MMscf x 0.0051 ft3/scf x 0.0283 m3/ft3 x 0.584 T/m3 = y MMt.\n",
    "Effective CO2 storage capacity, adjusting for geological and operational factors:\n",
    "y x 0.72 = z MMt.\n",
    "\n",
    "depleted Goldeneye geological complex has sufficient capacity to demonstrably contain for a period exceeding 1000 years a cumulative volume of 15Mt supercritical CO2 plus specified contaminants, injected at a rate of 1Mt p.a for an injection period of up to 15 years\n",
    "\n",
    "Goldeneye field had 549,213 MMcf gas recoverable, 22.76 MMbc, negligible oil. 548,713 MMcf was recovered.\n"
   ]
  },
  {
   "cell_type": "code",
   "execution_count": 43,
   "metadata": {},
   "outputs": [
    {
     "data": {
      "text/plain": [
       "33.300227820499195"
      ]
     },
     "execution_count": 43,
     "metadata": {},
     "output_type": "execute_result"
    }
   ],
   "source": [
    "# Calculation of 33 MMt CO2 at Goldeneye\n",
    "548713 * 0.0051 * 0.0283 * 0.584 * 0.72"
   ]
  },
  {
   "cell_type": "code",
   "execution_count": 44,
   "metadata": {},
   "outputs": [
    {
     "name": "stderr",
     "output_type": "stream",
     "text": [
      "C:\\ProgramData\\Anaconda3\\lib\\site-packages\\ipykernel_launcher.py:2: SettingWithCopyWarning: \n",
      "A value is trying to be set on a copy of a slice from a DataFrame.\n",
      "Try using .loc[row_indexer,col_indexer] = value instead\n",
      "\n",
      "See the caveats in the documentation: http://pandas.pydata.org/pandas-docs/stable/user_guide/indexing.html#returning-a-view-versus-a-copy\n",
      "  \n"
     ]
    }
   ],
   "source": [
    "# Convert mcf to cf to ft3/cf (huh?) to m3/ft3 to T/m3, then adjust to 0.72\n",
    "wells2['gas2co2'] = wells2['allgas'] * 1000 * 0.0051 * 0.0283 * 0.584 * 0.72"
   ]
  },
  {
   "cell_type": "code",
   "execution_count": 45,
   "metadata": {},
   "outputs": [
    {
     "name": "stdout",
     "output_type": "stream",
     "text": [
      "1133487224.472 t CO2 in depleted gas reservoirs\n"
     ]
    }
   ],
   "source": [
    "print(round(wells2.gas2co2.sum(), 3), \"t CO2 in depleted gas reservoirs\")"
   ]
  },
  {
   "cell_type": "code",
   "execution_count": 46,
   "metadata": {},
   "outputs": [
    {
     "name": "stderr",
     "output_type": "stream",
     "text": [
      "C:\\ProgramData\\Anaconda3\\lib\\site-packages\\ipykernel_launcher.py:2: SettingWithCopyWarning: \n",
      "A value is trying to be set on a copy of a slice from a DataFrame.\n",
      "Try using .loc[row_indexer,col_indexer] = value instead\n",
      "\n",
      "See the caveats in the documentation: http://pandas.pydata.org/pandas-docs/stable/user_guide/indexing.html#returning-a-view-versus-a-copy\n",
      "  \n"
     ]
    }
   ],
   "source": [
    "# Convert barrels to metric tonnes of oil, then reduce by a factor\n",
    "wells2['oil2co2'] = wells2['alloil'] / 7.62 * 0.5"
   ]
  },
  {
   "cell_type": "code",
   "execution_count": 47,
   "metadata": {},
   "outputs": [
    {
     "name": "stdout",
     "output_type": "stream",
     "text": [
      "660934371.043 t CO2 in depleted oil reservoirs\n"
     ]
    }
   ],
   "source": [
    "print(round(wells2.oil2co2.sum(), 3), \"t CO2 in depleted oil reservoirs\")"
   ]
  },
  {
   "cell_type": "code",
   "execution_count": 48,
   "metadata": {},
   "outputs": [],
   "source": [
    "well_vols = wells2[['API_ID', 'WellStatus_10.30.19', 'WellType_10.30.19', 'OperatorName',\n",
    "                    'FieldName', 'AreaName', 'Latitude', 'Longitude', 'SPUDDate',\n",
    "                    'PoolCode', 'PoolName', 'PoolWellTypeStatus', 'OperatorStatus','WellDepthAmount',\n",
    "                    'HydraulicallyFractured', 'last year', 'Status2020',\n",
    "                    'allgas', 'alloil', 'gas2co2', 'oil2co2', 'setback_any']]"
   ]
  },
  {
   "cell_type": "code",
   "execution_count": 49,
   "metadata": {},
   "outputs": [
    {
     "name": "stdout",
     "output_type": "stream",
     "text": [
      "293,115 wells was reduced to 243,084 wells by eliminating missing API_ID.\n",
      "243,084 wells is reduced to 128,841 by eliminating wells producing equivalent of less than 1% of a truckload of CO2\n"
     ]
    }
   ],
   "source": [
    "import locale\n",
    "\n",
    "locale.setlocale(locale.LC_ALL, 'en_US')\n",
    "\n",
    "# Eliminate wells that produced oil and gas < 1% of a truckload of CO2\n",
    "well_vols = well_vols[ (well_vols['gas2co2'] + well_vols['oil2co2']) > (0.25 / 1000000) ]\n",
    "print(\"293,115 wells was reduced to 243,084 wells by eliminating missing API_ID.\")\n",
    "print(\"243,084 wells is reduced to\",\n",
    "      locale.format_string('%d', well_vols.shape[0], grouping=True),\n",
    "      \"by eliminating wells producing equivalent of less than 1% of a truckload of CO2\")\n",
    "# Note this step could be attempted after pool grouping."
   ]
  },
  {
   "cell_type": "markdown",
   "metadata": {},
   "source": [
    "Label all the pools crudely."
   ]
  },
  {
   "cell_type": "code",
   "execution_count": 50,
   "metadata": {},
   "outputs": [],
   "source": [
    "well_vols['pool_id'] = well_vols.apply(lambda x:'%s|%s|%s' %\n",
    "                                     (x['FieldName'], x['AreaName'], x['PoolName']),\n",
    "                                      axis=1)\n",
    "# df['combined']=df.apply(lambda x:'%s_%s_%s' % (x['bar'],x['foo'],x['new']),axis=1)"
   ]
  },
  {
   "cell_type": "markdown",
   "metadata": {},
   "source": [
    "Label all the pools more sophisticated-like."
   ]
  },
  {
   "cell_type": "code",
   "execution_count": 51,
   "metadata": {},
   "outputs": [],
   "source": [
    "well_vols['poolID'] = ''\n",
    "duds = [ 'Any Field', 'Any Area', 'nan', 0, '' ]\n",
    "# If there's no bad field name, area name or pool name, assign a pool ID\n",
    "well_vols.loc[(~well_vols.FieldName.isin(duds)) &\n",
    "              (~well_vols.AreaName.isin(duds)) &\n",
    "              (~well_vols.PoolName.isin(duds)), 'poolID'] = well_vols.apply(lambda x:'%s|%s|%s' %\n",
    "                                                               (x['FieldName'], x['AreaName'], x['PoolName']),\n",
    "                                                               axis=1)\n",
    "# If the pool is still not assigned, assign instead the well ID\n",
    "well_vols.loc[well_vols.poolID.str.len() < 1, 'poolID'] = well_vols['API_ID']"
   ]
  },
  {
   "cell_type": "code",
   "execution_count": 52,
   "metadata": {},
   "outputs": [
    {
     "data": {
      "text/plain": [
       "94257"
      ]
     },
     "execution_count": 52,
     "metadata": {},
     "output_type": "execute_result"
    }
   ],
   "source": [
    "len(well_vols.poolID.unique())"
   ]
  },
  {
   "cell_type": "code",
   "execution_count": 53,
   "metadata": {},
   "outputs": [
    {
     "data": {
      "text/plain": [
       "<matplotlib.axes._subplots.AxesSubplot at 0x16197d5f408>"
      ]
     },
     "execution_count": 53,
     "metadata": {},
     "output_type": "execute_result"
    }
   ],
   "source": [
    "well_vols.gas2co2.hist(bins=500)\n"
   ]
  },
  {
   "cell_type": "code",
   "execution_count": 54,
   "metadata": {},
   "outputs": [],
   "source": [
    "well_vols.to_csv('well_volumes.csv')"
   ]
  },
  {
   "cell_type": "code",
   "execution_count": 55,
   "metadata": {},
   "outputs": [],
   "source": [
    "# well_vols.FieldName.unique()"
   ]
  },
  {
   "cell_type": "code",
   "execution_count": 56,
   "metadata": {},
   "outputs": [
    {
     "data": {
      "text/plain": [
       "106118724.22909561"
      ]
     },
     "execution_count": 56,
     "metadata": {},
     "output_type": "execute_result"
    }
   ],
   "source": [
    "temp = well_vols[well_vols['FieldName'] == 'Midway-Sunset']\n",
    "temp.oil2co2.sum()"
   ]
  },
  {
   "cell_type": "markdown",
   "metadata": {},
   "source": [
    "### Pools\n",
    "This next section of code aggregates wells into field-area-pools."
   ]
  },
  {
   "cell_type": "code",
   "execution_count": 57,
   "metadata": {},
   "outputs": [
    {
     "data": {
      "text/html": [
       "<div>\n",
       "<style scoped>\n",
       "    .dataframe tbody tr th:only-of-type {\n",
       "        vertical-align: middle;\n",
       "    }\n",
       "\n",
       "    .dataframe tbody tr th {\n",
       "        vertical-align: top;\n",
       "    }\n",
       "\n",
       "    .dataframe thead th {\n",
       "        text-align: right;\n",
       "    }\n",
       "</style>\n",
       "<table border=\"1\" class=\"dataframe\">\n",
       "  <thead>\n",
       "    <tr style=\"text-align: right;\">\n",
       "      <th></th>\n",
       "      <th>poolID</th>\n",
       "      <th>Latitude</th>\n",
       "      <th>Longitude</th>\n",
       "      <th>WellDepth</th>\n",
       "      <th>gas2co2</th>\n",
       "      <th>oil2co2</th>\n",
       "      <th>totalco2</th>\n",
       "    </tr>\n",
       "  </thead>\n",
       "  <tbody>\n",
       "    <tr>\n",
       "      <td>0</td>\n",
       "      <td>100001</td>\n",
       "      <td>37.693672</td>\n",
       "      <td>-121.689627</td>\n",
       "      <td>NaN</td>\n",
       "      <td>0.728255</td>\n",
       "      <td>1999.475066</td>\n",
       "      <td>2000.203320</td>\n",
       "    </tr>\n",
       "    <tr>\n",
       "      <td>1</td>\n",
       "      <td>120004</td>\n",
       "      <td>37.693731</td>\n",
       "      <td>-121.689699</td>\n",
       "      <td>NaN</td>\n",
       "      <td>27.734360</td>\n",
       "      <td>2820.538058</td>\n",
       "      <td>2848.272418</td>\n",
       "    </tr>\n",
       "    <tr>\n",
       "      <td>2</td>\n",
       "      <td>120005</td>\n",
       "      <td>37.695090</td>\n",
       "      <td>-121.689512</td>\n",
       "      <td>NaN</td>\n",
       "      <td>0.000000</td>\n",
       "      <td>1891.207349</td>\n",
       "      <td>1891.207349</td>\n",
       "    </tr>\n",
       "    <tr>\n",
       "      <td>3</td>\n",
       "      <td>120008</td>\n",
       "      <td>37.693752</td>\n",
       "      <td>-121.686563</td>\n",
       "      <td>NaN</td>\n",
       "      <td>0.000000</td>\n",
       "      <td>820.406824</td>\n",
       "      <td>820.406824</td>\n",
       "    </tr>\n",
       "    <tr>\n",
       "      <td>4</td>\n",
       "      <td>120009</td>\n",
       "      <td>37.694963</td>\n",
       "      <td>-121.686812</td>\n",
       "      <td>NaN</td>\n",
       "      <td>6.129476</td>\n",
       "      <td>3208.595801</td>\n",
       "      <td>3214.725276</td>\n",
       "    </tr>\n",
       "  </tbody>\n",
       "</table>\n",
       "</div>"
      ],
      "text/plain": [
       "   poolID   Latitude   Longitude  WellDepth    gas2co2      oil2co2  \\\n",
       "0  100001  37.693672 -121.689627        NaN   0.728255  1999.475066   \n",
       "1  120004  37.693731 -121.689699        NaN  27.734360  2820.538058   \n",
       "2  120005  37.695090 -121.689512        NaN   0.000000  1891.207349   \n",
       "3  120008  37.693752 -121.686563        NaN   0.000000   820.406824   \n",
       "4  120009  37.694963 -121.686812        NaN   6.129476  3208.595801   \n",
       "\n",
       "      totalco2  \n",
       "0  2000.203320  \n",
       "1  2848.272418  \n",
       "2  1891.207349  \n",
       "3   820.406824  \n",
       "4  3214.725276  "
      ]
     },
     "execution_count": 57,
     "metadata": {},
     "output_type": "execute_result"
    }
   ],
   "source": [
    "pool_vols = well_vols.groupby('poolID').agg(\n",
    "                Latitude=('Latitude', 'median'),\n",
    "                Longitude=('Longitude', 'median'),\n",
    "                WellDepth=('WellDepthAmount', 'median'),\n",
    "                gas2co2=('gas2co2', 'sum'),\n",
    "                oil2co2=('oil2co2', 'sum')).reset_index()\n",
    "pool_vols['totalco2']=pool_vols['gas2co2'] + pool_vols['oil2co2']\n",
    "pool_vols.head()\n",
    "\n",
    "# 'API_ID', 'WellStatus_10.30.19', 'WellType_10.30.19', 'OperatorName',\n",
    "#                     'FieldName', 'AreaName', 'Latitude', 'Longitude', 'SPUDDate',\n",
    "#                     'PoolCode', 'PoolName', 'PoolWellTypeStatus', 'OperatorStatus','WellDepthAmount',\n",
    "#                     'HydraulicallyFractured', 'last year', 'Status2020',\n",
    "#                     'allgas', 'alloil', 'gas2co2', 'oil2co2'"
   ]
  },
  {
   "cell_type": "code",
   "execution_count": 58,
   "metadata": {},
   "outputs": [
    {
     "data": {
      "text/plain": [
       "array([[<matplotlib.axes._subplots.AxesSubplot object at 0x00000161FD2160C8>,\n",
       "        <matplotlib.axes._subplots.AxesSubplot object at 0x00000161960C2108>],\n",
       "       [<matplotlib.axes._subplots.AxesSubplot object at 0x000001619E3FF088>,\n",
       "        <matplotlib.axes._subplots.AxesSubplot object at 0x00000161FD29A988>],\n",
       "       [<matplotlib.axes._subplots.AxesSubplot object at 0x000001619E5ECB08>,\n",
       "        <matplotlib.axes._subplots.AxesSubplot object at 0x00000162010ADE88>]],\n",
       "      dtype=object)"
      ]
     },
     "execution_count": 58,
     "metadata": {},
     "output_type": "execute_result"
    },
    {
     "data": {
      "image/png": "[encoded data removed]",
      "text/plain": [
       "<Figure size 432x288 with 6 Axes>"
      ]
     },
     "metadata": {
      "needs_background": "light"
     },
     "output_type": "display_data"
    }
   ],
   "source": [
    "pool_vols.hist()"
   ]
  },
  {
   "cell_type": "code",
   "execution_count": 59,
   "metadata": {},
   "outputs": [],
   "source": [
    "pool_vols.to_csv('pool_volumes.csv')"
   ]
  },
  {
   "cell_type": "code",
   "execution_count": 60,
   "metadata": {},
   "outputs": [
    {
     "data": {
      "text/plain": [
       "(94257, 7)"
      ]
     },
     "execution_count": 60,
     "metadata": {},
     "output_type": "execute_result"
    }
   ],
   "source": [
    "pool_vols.shape"
   ]
  },
  {
   "cell_type": "markdown",
   "metadata": {},
   "source": [
    "THe rest of this code is copied from other decks to measure the total volumes of CO2 coming from emitters."
   ]
  },
  {
   "cell_type": "code",
   "execution_count": 61,
   "metadata": {},
   "outputs": [
    {
     "name": "stdout",
     "output_type": "stream",
     "text": [
      "['Facility Id', 'FRS Id', 'Facility Name', 'City', 'State', 'Primary NAICS Code', 'Reporting Year', 'Industry Type (subparts)', 'Industry Type (sectors)', 'Unit Name', 'Unit Type', 'Unit Reporting Method', 'Unit Maximum Rated Heat Input Capacity (mmBTU/hr)', 'Unit CO2 emissions (non-biogenic) ', 'Unit Methane (CH4) emissions ', 'Unit Nitrous Oxide (N2O) emissions ', 'Unit Biogenic CO2 emissions (metric tons)']\n",
      "(190709, 17)\n",
      "(10279, 17)\n",
      "(927, 17)\n",
      "298\n",
      "295\n",
      "368\n",
      "['Facility Id', 'FRS Id', 'Facility Name', 'City', 'State', 'Zip Code', 'Address', 'County', 'Latitude', 'Longitude', 'Primary NAICS Code', 'Industry Type (subparts)', 'Industry Type (sectors)', 'Total reported direct emissions', 'CO2 emissions (non-biogenic) ', 'Methane (CH4) emissions ', 'Nitrous Oxide (N2O) emissions ', 'HFC emissions', 'PFC emissions', 'SF6 emissions ', 'NF3 emissions', 'Other Fully Fluorinated GHG emissions', 'HFE emissions', 'Very Short-lived Compounds emissions', 'Other GHGs (metric tons CO2e)', 'Biogenic CO2 emissions (metric tons)', 'Stationary Combustion', 'Electricity Generation', 'Adipic Acid Production', 'Aluminum Production', 'Ammonia Manufacturing', 'Cement Production', 'Electronics Manufacture', 'Ferroalloy Production', 'Fluorinated GHG Production', 'Glass Production', 'HCFC–22 Production from HFC–23 Destruction', 'Hydrogen Production', 'Iron and Steel Production', 'Lead Production', 'Lime Production', 'Magnesium Production', 'Miscellaneous Use of Carbonates', 'Nitric Acid Production', 'Petroleum and Natural Gas Systems – Offshore Production', 'Petroleum and Natural Gas Systems – Processing', 'Petroleum and Natural Gas Systems – Transmission/Compression', 'Petroleum and Natural Gas Systems – Underground Storage', 'Petroleum and Natural Gas Systems – LNG Storage', 'Petroleum and Natural Gas Systems – LNG Import/Export', 'Petrochemical Production', 'Petroleum Refining', 'Phosphoric Acid Production', 'Pulp and Paper Manufacturing', 'Silicon Carbide Production', 'Soda Ash Manufacturing', 'Titanium Dioxide Production', 'Underground Coal Mines', 'Zinc Production', 'Municipal Landfills', 'Industrial Wastewater Treatment', 'Manufacture of Electric Transmission and Distribution Equipment', 'Industrial Waste Landfills', 'Is some CO2 collected on-site and used to manufacture other products and therefore not emitted from the affected manufacturing process unit(s)? (as reported under Subpart G or S)', 'Is some CO2 reported as emissions from the affected manufacturing process unit(s) under Subpart AA, G or P collected and transferred off-site or injected (as reported under Subpart PP)?', 'Does the facility employ continuous emissions monitoring? ']\n",
      "(6512, 66)\n",
      "(383, 66)\n",
      "383\n",
      "380\n",
      "372\n",
      "facility id 1011716 not in emissions data.\n",
      "facility id 1007736 not in emissions data.\n",
      "facility id 1003679 not in emissions data.\n",
      "facility id 1003680 not in emissions data.\n",
      "facility id 1007817 not in emissions data.\n",
      "facility id 1005782 not in emissions data.\n",
      "facility id 1007836 not in emissions data.\n",
      "facility id 1007839 not in emissions data.\n",
      "facility id 1003748 not in emissions data.\n",
      "facility id 1009930 not in emissions data.\n",
      "facility id 1003800 not in emissions data.\n",
      "facility id 1003813 not in emissions data.\n",
      "facility id 1003814 not in emissions data.\n",
      "facility id 1007951 not in emissions data.\n",
      "facility id 1001819 not in emissions data.\n",
      "facility id 1005955 not in emissions data.\n",
      "facility id 1003918 not in emissions data.\n",
      "facility id 1008030 not in emissions data.\n",
      "facility id 1004010 not in emissions data.\n",
      "facility id 1004011 not in emissions data.\n",
      "facility id 1006089 not in emissions data.\n",
      "facility id 1004052 not in emissions data.\n",
      "facility id 1006107 not in emissions data.\n",
      "facility id 1010207 not in emissions data.\n",
      "facility id 1006179 not in emissions data.\n",
      "facility id 1000046 not in emissions data.\n",
      "facility id 1006197 not in emissions data.\n",
      "facility id 1002104 not in emissions data.\n",
      "facility id 1002106 not in emissions data.\n",
      "facility id 1002107 not in emissions data.\n",
      "facility id 1006215 not in emissions data.\n",
      "facility id 1006216 not in emissions data.\n",
      "facility id 1002121 not in emissions data.\n",
      "facility id 1002122 not in emissions data.\n",
      "facility id 1002123 not in emissions data.\n",
      "facility id 1006218 not in emissions data.\n",
      "facility id 1006221 not in emissions data.\n",
      "facility id 1002134 not in emissions data.\n",
      "facility id 1006293 not in emissions data.\n",
      "facility id 1002224 not in emissions data.\n",
      "facility id 1006322 not in emissions data.\n",
      "facility id 1002257 not in emissions data.\n",
      "facility id 1004335 not in emissions data.\n",
      "facility id 1004364 not in emissions data.\n",
      "facility id 1002318 not in emissions data.\n",
      "facility id 1002320 not in emissions data.\n",
      "facility id 1006430 not in emissions data.\n",
      "facility id 1004402 not in emissions data.\n",
      "facility id 1004403 not in emissions data.\n",
      "facility id 1002384 not in emissions data.\n",
      "facility id 1006501 not in emissions data.\n",
      "facility id 1004465 not in emissions data.\n",
      "facility id 1002435 not in emissions data.\n",
      "facility id 1004548 not in emissions data.\n",
      "facility id 1000506 not in emissions data.\n",
      "facility id 1002566 not in emissions data.\n",
      "facility id 1002634 not in emissions data.\n",
      "facility id 1004691 not in emissions data.\n",
      "facility id 1004692 not in emissions data.\n",
      "facility id 1004745 not in emissions data.\n",
      "facility id 1004868 not in emissions data.\n",
      "facility id 1002896 not in emissions data.\n",
      "facility id 1013147 not in emissions data.\n",
      "facility id 1007040 not in emissions data.\n",
      "facility id 1002992 not in emissions data.\n",
      "facility id 1005042 not in emissions data.\n",
      "facility id 1005061 not in emissions data.\n",
      "facility id 1007112 not in emissions data.\n",
      "facility id 1007128 not in emissions data.\n",
      "facility id 1005092 not in emissions data.\n",
      "facility id 1007197 not in emissions data.\n",
      "facility id 1007198 not in emissions data.\n",
      "facility id 1007204 not in emissions data.\n",
      "facility id 1011371 not in emissions data.\n",
      "facility id 1003198 not in emissions data.\n",
      "facility id 1003202 not in emissions data.\n",
      "facility id 1007345 not in emissions data.\n",
      "facility id 1011449 not in emissions data.\n",
      "facility id 1005368 not in emissions data.\n",
      "facility id 1003328 not in emissions data.\n",
      "facility id 1003361 not in emissions data.\n",
      "facility id 1007558 not in emissions data.\n",
      "facility id 1011669 not in emissions data.\n",
      "facility id 1011676 not in emissions data.\n",
      "facility id 1007607 not in emissions data.\n",
      "(927, 25)\n"
     ]
    }
   ],
   "source": [
    "emissions = pd.read_excel(r'./Emissions by Unit and Fuel Type.xlsx',\n",
    "                          sheet_name='UNIT_DATA', skiprows=4)\n",
    "print(list(emissions.columns))\n",
    "print(emissions.shape)\n",
    "emissions = emissions[emissions.State == 'CA']\n",
    "print(emissions.shape)\n",
    "emsCA2019 = emissions[emissions['Reporting Year'] == 2019]\n",
    "print(emsCA2019.shape)\n",
    "# Unique values of Facility ID for 2019 emissions data from facilities in California \n",
    "print(len(set(emsCA2019['Facility Id'])))\n",
    "# Unique values of Facility Name for 2019 emissions data from facilities in California\n",
    "print(len(set(emsCA2019['Facility Name'])))\n",
    "# Unique values of FRS ID for 2019 emissions data from facilities in California\n",
    "print(len(set(emsCA2019['FRS Id'])))\n",
    "facilities = pd.read_excel(r'./ghgp_data_2019.xlsx',\n",
    "                          sheet_name='Direct Emitters', skiprows=3)\n",
    "\n",
    "print(list(facilities.columns))\n",
    "print(facilities.shape)\n",
    "facilities = facilities[facilities.State == 'CA']\n",
    "print(facilities.shape)\n",
    "\n",
    "print(len(set(facilities['Facility Id'])))\n",
    "print(len(set(facilities['Facility Name'])))\n",
    "print(len(set(facilities['FRS Id'])))\n",
    "\n",
    "ems = set(emsCA2019['Facility Id'])\n",
    "facs = set(facilities['Facility Id'])\n",
    "\n",
    "for fac in facs:\n",
    "    if fac not in ems:\n",
    "        print('facility id', fac, 'not in emissions data.')\n",
    "for em in ems:\n",
    "    if em not in facs:\n",
    "        print('facility id', em, 'not in facilities data.')\n",
    "\n",
    "facilitiesB = facilities.rename(inplace=False,\n",
    "                                columns={'Facility Name':'Facility Name2',\n",
    "                                         'City':'City2',\n",
    "                                         'Primary NAICS Code':'Primary NAICS Code2',\n",
    "                                         'Industry Type (subparts)':'Industry Type (subparts)2',\n",
    "                                         'Industry Type (sectors)':'Industry Type (sectors)2'})\n",
    "\n",
    "emsCA2019loc = pd.merge(emsCA2019, facilitiesB[['Facility Id',\n",
    "#                                               'Facility Name2',\n",
    "                                               'City2',\n",
    "                                               'Zip Code',\n",
    "                                               'Address',\n",
    "                                               'County',\n",
    "                                               'Latitude',\n",
    "                                               'Longitude',\n",
    "#                                               'Primary NAICS Code2',\n",
    "                                               'Industry Type (subparts)2',\n",
    "                                               'Industry Type (sectors)2']],\n",
    "                        how='left', on='Facility Id')\n",
    "print(emsCA2019loc.shape)\n",
    "# tran2_df = pd.merge(tran_df, dupeval_df, how='left', on='value')"
   ]
  },
  {
   "cell_type": "code",
   "execution_count": 32,
   "metadata": {},
   "outputs": [
    {
     "data": {
      "text/plain": [
       "Index(['Facility Id', 'FRS Id', 'Facility Name', 'City', 'State',\n",
       "       'Primary NAICS Code', 'Reporting Year', 'Industry Type (subparts)',\n",
       "       'Industry Type (sectors)', 'Unit Name', 'Unit Type',\n",
       "       'Unit Reporting Method',\n",
       "       'Unit Maximum Rated Heat Input Capacity (mmBTU/hr)',\n",
       "       'Unit CO2 emissions (non-biogenic) ', 'Unit Methane (CH4) emissions ',\n",
       "       'Unit Nitrous Oxide (N2O) emissions ',\n",
       "       'Unit Biogenic CO2 emissions (metric tons)', 'City2', 'Zip Code',\n",
       "       'Address', 'County', 'Latitude', 'Longitude',\n",
       "       'Industry Type (subparts)2', 'Industry Type (sectors)2'],\n",
       "      dtype='object')"
      ]
     },
     "execution_count": 32,
     "metadata": {},
     "output_type": "execute_result"
    }
   ],
   "source": [
    "emsCA2019loc.columns"
   ]
  },
  {
   "cell_type": "code",
   "execution_count": 34,
   "metadata": {},
   "outputs": [
    {
     "data": {
      "text/plain": [
       "59638912.489999995"
      ]
     },
     "execution_count": 34,
     "metadata": {},
     "output_type": "execute_result"
    }
   ],
   "source": [
    "emsCA2019loc['Unit CO2 emissions (non-biogenic) '].sum()"
   ]
  },
  {
   "cell_type": "code",
   "execution_count": null,
   "metadata": {},
   "outputs": [],
   "source": []
  }
 ],
 "metadata": {
  "kernelspec": {
   "display_name": "Python 3",
   "language": "python",
   "name": "python3"
  },
  "language_info": {
   "codemirror_mode": {
    "name": "ipython",
    "version": 3
   },
   "file_extension": ".py",
   "mimetype": "text/x-python",
   "name": "python",
   "nbconvert_exporter": "python",
   "pygments_lexer": "ipython3",
   "version": "3.7.4"
  }
 },
 "nbformat": 4,
 "nbformat_minor": 2
}
